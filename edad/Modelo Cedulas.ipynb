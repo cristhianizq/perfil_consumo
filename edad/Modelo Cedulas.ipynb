{
 "cells": [
  {
   "cell_type": "markdown",
   "id": "4d7272c7",
   "metadata": {},
   "source": [
    "###  Modelo para extraer la edad de las cedulas"
   ]
  },
  {
   "cell_type": "code",
   "execution_count": 1,
   "id": "02831c07",
   "metadata": {},
   "outputs": [],
   "source": [
    "import pandas as pd\n",
    "import numpy as np\n",
    "import seaborn as sns\n",
    "import matplotlib.pyplot as plt\n",
    "from sklearn.model_selection import train_test_split\n",
    "import xgboost as xgb\n",
    "import re\n",
    "from joblib import dump,load\n",
    "from lightgbm import LGBMClassifier\n",
    "import gc\n",
    "import sys"
   ]
  },
  {
   "cell_type": "code",
   "execution_count": 2,
   "id": "d5e15a7f",
   "metadata": {},
   "outputs": [
    {
     "data": {
      "text/plain": [
       "[('LGBMClassifier', 1064),\n",
       " ('dump', 136),\n",
       " ('load', 136),\n",
       " ('train_test_split', 136),\n",
       " ('np', 72),\n",
       " ('pd', 72),\n",
       " ('plt', 72),\n",
       " ('sns', 72),\n",
       " ('xgb', 72)]"
      ]
     },
     "execution_count": 2,
     "metadata": {},
     "output_type": "execute_result"
    }
   ],
   "source": [
    "#def usoMemoria():\n",
    "    # These are the usual ipython objects, including this one you are creating\n",
    "ipython_vars = ['In', 'Out', 'exit', 'quit', 'get_ipython', 'ipython_vars']\n",
    "# Get a sorted list of the objects and their sizes\n",
    "sorted([(x, sys.getsizeof(globals().get(x))) for x in dir() if not x.startswith('_') and x not in sys.modules and x not in ipython_vars], key=lambda x: x[1], reverse=True)\n",
    "    #print(usoM)"
   ]
  },
  {
   "cell_type": "code",
   "execution_count": 3,
   "id": "b788bacc",
   "metadata": {},
   "outputs": [],
   "source": [
    "pd.set_option('display.float_format', lambda x: '%.3f' % x)"
   ]
  },
  {
   "cell_type": "code",
   "execution_count": 4,
   "id": "1727fc6e",
   "metadata": {},
   "outputs": [
    {
     "data": {
      "text/html": [
       "<style>.container { width:90% !important; }</style>"
      ],
      "text/plain": [
       "<IPython.core.display.HTML object>"
      ]
     },
     "metadata": {},
     "output_type": "display_data"
    }
   ],
   "source": [
    "from IPython.core.display import display, HTML\n",
    "display(HTML(\"<style>.container { width:90% !important; }</style>\"))"
   ]
  },
  {
   "cell_type": "code",
   "execution_count": 5,
   "id": "2e932e5f",
   "metadata": {},
   "outputs": [
    {
     "name": "stderr",
     "output_type": "stream",
     "text": [
      "C:\\ProgramData\\Anaconda3\\envs\\ds_sqdm_claro\\lib\\site-packages\\IPython\\core\\interactiveshell.py:3169: DtypeWarning: Columns (0,48,60,61,64,65,66,68,69,70,71,72,73,75,77,79,81,90,92,94,96,98,107,108,109,110,126,127) have mixed types.Specify dtype option on import or set low_memory=False.\n",
      "  has_raised = await self.run_ast_nodes(code_ast.body, cell_name,\n"
     ]
    }
   ],
   "source": [
    "baseEnt = pd.read_csv(f'GAAVANZADA.TTA_ANALITICA_CAMBIO_EQUI_COMPLETA_FINANCIA_202106_2.csv', sep='|', decimal='.')"
   ]
  },
  {
   "cell_type": "code",
   "execution_count": 6,
   "id": "4ff37b11",
   "metadata": {},
   "outputs": [
    {
     "data": {
      "text/html": [
       "<div>\n",
       "<style scoped>\n",
       "    .dataframe tbody tr th:only-of-type {\n",
       "        vertical-align: middle;\n",
       "    }\n",
       "\n",
       "    .dataframe tbody tr th {\n",
       "        vertical-align: top;\n",
       "    }\n",
       "\n",
       "    .dataframe thead th {\n",
       "        text-align: right;\n",
       "    }\n",
       "</style>\n",
       "<table border=\"1\" class=\"dataframe\">\n",
       "  <thead>\n",
       "    <tr style=\"text-align: right;\">\n",
       "      <th></th>\n",
       "      <th>IDENTIFICACION</th>\n",
       "      <th>EDAD_MESES</th>\n",
       "      <th>CANTIDAD_LINEAS</th>\n",
       "      <th>TIPO_IDENTIFICACION</th>\n",
       "      <th>ANTIGUEDAD_MESES</th>\n",
       "      <th>VLR_CFM</th>\n",
       "      <th>CANT_MB_INC_PLAN</th>\n",
       "      <th>NUM_UPGRADES</th>\n",
       "      <th>NUM_DOWNGRADES</th>\n",
       "      <th>NUM_PARALELO</th>\n",
       "      <th>...</th>\n",
       "      <th>CL_TASA_CHURN</th>\n",
       "      <th>CL_CHURN_LATENCIA_4G</th>\n",
       "      <th>COMPRAS_TERMINALES_MM1</th>\n",
       "      <th>COMPRAS_TERMINALES_MM2</th>\n",
       "      <th>COMPRAS_TERMINALES_MM3</th>\n",
       "      <th>COMPRAS_TERMINALES_MM4</th>\n",
       "      <th>COMPRAS_TECNOLOGIA_MM1</th>\n",
       "      <th>COMPRAS_TECNOLOGIA_MM2</th>\n",
       "      <th>COMPRAS_TECNOLOGIA_MM3</th>\n",
       "      <th>COMPRAS_TECNOLOGIA_MM4</th>\n",
       "    </tr>\n",
       "  </thead>\n",
       "  <tbody>\n",
       "    <tr>\n",
       "      <th>0</th>\n",
       "      <td>52193919</td>\n",
       "      <td>562.871</td>\n",
       "      <td>1</td>\n",
       "      <td>1</td>\n",
       "      <td>21.443</td>\n",
       "      <td>24954.458</td>\n",
       "      <td>5120</td>\n",
       "      <td>0</td>\n",
       "      <td>0</td>\n",
       "      <td>0</td>\n",
       "      <td>...</td>\n",
       "      <td>B-B</td>\n",
       "      <td>B-B</td>\n",
       "      <td>0.000</td>\n",
       "      <td>0.000</td>\n",
       "      <td>0.000</td>\n",
       "      <td>0.000</td>\n",
       "      <td>0.000</td>\n",
       "      <td>0.000</td>\n",
       "      <td>0.000</td>\n",
       "      <td>0.000</td>\n",
       "    </tr>\n",
       "    <tr>\n",
       "      <th>1</th>\n",
       "      <td>1068974045</td>\n",
       "      <td>369.613</td>\n",
       "      <td>2</td>\n",
       "      <td>1</td>\n",
       "      <td>6.017</td>\n",
       "      <td>49908.915</td>\n",
       "      <td>10240</td>\n",
       "      <td>0</td>\n",
       "      <td>0</td>\n",
       "      <td>0</td>\n",
       "      <td>...</td>\n",
       "      <td>B-B</td>\n",
       "      <td>B-B</td>\n",
       "      <td>0.000</td>\n",
       "      <td>0.000</td>\n",
       "      <td>0.000</td>\n",
       "      <td>0.000</td>\n",
       "      <td>0.000</td>\n",
       "      <td>0.000</td>\n",
       "      <td>0.000</td>\n",
       "      <td>0.000</td>\n",
       "    </tr>\n",
       "  </tbody>\n",
       "</table>\n",
       "<p>2 rows × 136 columns</p>\n",
       "</div>"
      ],
      "text/plain": [
       "  IDENTIFICACION  EDAD_MESES  CANTIDAD_LINEAS  TIPO_IDENTIFICACION  \\\n",
       "0       52193919     562.871                1                    1   \n",
       "1     1068974045     369.613                2                    1   \n",
       "\n",
       "   ANTIGUEDAD_MESES   VLR_CFM  CANT_MB_INC_PLAN  NUM_UPGRADES  NUM_DOWNGRADES  \\\n",
       "0            21.443 24954.458              5120             0               0   \n",
       "1             6.017 49908.915             10240             0               0   \n",
       "\n",
       "   NUM_PARALELO  ...  CL_TASA_CHURN  CL_CHURN_LATENCIA_4G  \\\n",
       "0             0  ...            B-B                   B-B   \n",
       "1             0  ...            B-B                   B-B   \n",
       "\n",
       "   COMPRAS_TERMINALES_MM1  COMPRAS_TERMINALES_MM2  COMPRAS_TERMINALES_MM3  \\\n",
       "0                   0.000                   0.000                   0.000   \n",
       "1                   0.000                   0.000                   0.000   \n",
       "\n",
       "   COMPRAS_TERMINALES_MM4  COMPRAS_TECNOLOGIA_MM1  COMPRAS_TECNOLOGIA_MM2  \\\n",
       "0                   0.000                   0.000                   0.000   \n",
       "1                   0.000                   0.000                   0.000   \n",
       "\n",
       "   COMPRAS_TECNOLOGIA_MM3  COMPRAS_TECNOLOGIA_MM4  \n",
       "0                   0.000                   0.000  \n",
       "1                   0.000                   0.000  \n",
       "\n",
       "[2 rows x 136 columns]"
      ]
     },
     "execution_count": 6,
     "metadata": {},
     "output_type": "execute_result"
    }
   ],
   "source": [
    "baseEnt.head(2)"
   ]
  },
  {
   "cell_type": "code",
   "execution_count": 7,
   "id": "a6a2b7bc",
   "metadata": {},
   "outputs": [],
   "source": [
    "baseEnt=baseEnt[['IDENTIFICACION','EDAD_MESES']]"
   ]
  },
  {
   "cell_type": "code",
   "execution_count": 8,
   "id": "6d37332e",
   "metadata": {},
   "outputs": [
    {
     "data": {
      "text/html": [
       "<div>\n",
       "<style scoped>\n",
       "    .dataframe tbody tr th:only-of-type {\n",
       "        vertical-align: middle;\n",
       "    }\n",
       "\n",
       "    .dataframe tbody tr th {\n",
       "        vertical-align: top;\n",
       "    }\n",
       "\n",
       "    .dataframe thead th {\n",
       "        text-align: right;\n",
       "    }\n",
       "</style>\n",
       "<table border=\"1\" class=\"dataframe\">\n",
       "  <thead>\n",
       "    <tr style=\"text-align: right;\">\n",
       "      <th></th>\n",
       "      <th>IDENTIFICACION</th>\n",
       "      <th>EDAD_MESES</th>\n",
       "    </tr>\n",
       "  </thead>\n",
       "  <tbody>\n",
       "    <tr>\n",
       "      <th>0</th>\n",
       "      <td>52193919</td>\n",
       "      <td>562.871</td>\n",
       "    </tr>\n",
       "    <tr>\n",
       "      <th>1</th>\n",
       "      <td>1068974045</td>\n",
       "      <td>369.613</td>\n",
       "    </tr>\n",
       "    <tr>\n",
       "      <th>2</th>\n",
       "      <td>1023968294</td>\n",
       "      <td>277.258</td>\n",
       "    </tr>\n",
       "  </tbody>\n",
       "</table>\n",
       "</div>"
      ],
      "text/plain": [
       "  IDENTIFICACION  EDAD_MESES\n",
       "0       52193919     562.871\n",
       "1     1068974045     369.613\n",
       "2     1023968294     277.258"
      ]
     },
     "execution_count": 8,
     "metadata": {},
     "output_type": "execute_result"
    }
   ],
   "source": [
    "baseEnt.head(3)"
   ]
  },
  {
   "cell_type": "code",
   "execution_count": 9,
   "id": "6c8e133b",
   "metadata": {},
   "outputs": [],
   "source": [
    "baseEnt['EDAD_AÑOS']=baseEnt['EDAD_MESES']/12"
   ]
  },
  {
   "cell_type": "code",
   "execution_count": 10,
   "id": "bcbf5a6f",
   "metadata": {},
   "outputs": [
    {
     "data": {
      "image/png": "[encoded data removed]",
      "text/plain": [
       "<Figure size 432x288 with 1 Axes>"
      ]
     },
     "metadata": {
      "needs_background": "light"
     },
     "output_type": "display_data"
    }
   ],
   "source": [
    "fig, ax = plt.subplots()\n",
    "sns.violinplot(ax=ax,x=baseEnt['EDAD_MESES']);"
   ]
  },
  {
   "cell_type": "code",
   "execution_count": 11,
   "id": "b1d42716",
   "metadata": {
    "scrolled": false
   },
   "outputs": [
    {
     "data": {
      "image/png": "[encoded data removed]",
      "text/plain": [
       "<Figure size 432x288 with 1 Axes>"
      ]
     },
     "metadata": {
      "needs_background": "light"
     },
     "output_type": "display_data"
    }
   ],
   "source": [
    "fig, ax = plt.subplots()\n",
    "sns.violinplot(ax=ax,x=baseEnt['EDAD_AÑOS']);"
   ]
  },
  {
   "cell_type": "markdown",
   "id": "8b8e1cb8",
   "metadata": {},
   "source": [
    "###  procesar Identificación"
   ]
  },
  {
   "cell_type": "code",
   "execution_count": 12,
   "id": "740b8930",
   "metadata": {},
   "outputs": [],
   "source": [
    "def limpiarIdentificacion(dni):\n",
    "    dni = re.sub(r'\\W', ' ', str(dni))\n",
    "    dni=dni.replace('.','')\n",
    "    dni=dni.replace(' ','')\n",
    "    return dni"
   ]
  },
  {
   "cell_type": "code",
   "execution_count": 13,
   "id": "52a2c7b1",
   "metadata": {},
   "outputs": [],
   "source": [
    "def tipoDocumento(dni):    \n",
    "    #text='9005514169.0'\n",
    "    dni=str(dni)    \n",
    "    #pos=dni.find('.')\n",
    "    #if pos != -1:\n",
    "    #    dni=dni[0:pos]    \n",
    "    longitud=len(str(dni))\n",
    "    if longitud==0:\n",
    "        return \"vacio\"\n",
    "    \n",
    "    inicial=dni[0]\n",
    "    respuesta=\"desconocido\"\n",
    "    #si tiene texto\n",
    "    if any( (c.isalpha()) for c in dni):\n",
    "        respuesta=\"conTexto\"\n",
    "    elif (longitud == 9 or longitud==10) and (inicial=='9' or inicial=='8'):\n",
    "        respuesta=\"NIT\"\n",
    "    elif (longitud == 7 or longitud==8):\n",
    "        respuesta=\"cedula\"\n",
    "    elif (longitud == 10) and (inicial=='1'):\n",
    "        respuesta=\"cedula\"\n",
    "    elif longitud<=6:\n",
    "        respuesta=\"sin id\"\n",
    "    return respuesta"
   ]
  },
  {
   "cell_type": "code",
   "execution_count": 14,
   "id": "6ba9a13f",
   "metadata": {},
   "outputs": [],
   "source": [
    "baseEnt['id_limp']=baseEnt['IDENTIFICACION'].apply(limpiarIdentificacion)"
   ]
  },
  {
   "cell_type": "code",
   "execution_count": 15,
   "id": "6d96cbbe",
   "metadata": {},
   "outputs": [
    {
     "data": {
      "text/html": [
       "<div>\n",
       "<style scoped>\n",
       "    .dataframe tbody tr th:only-of-type {\n",
       "        vertical-align: middle;\n",
       "    }\n",
       "\n",
       "    .dataframe tbody tr th {\n",
       "        vertical-align: top;\n",
       "    }\n",
       "\n",
       "    .dataframe thead th {\n",
       "        text-align: right;\n",
       "    }\n",
       "</style>\n",
       "<table border=\"1\" class=\"dataframe\">\n",
       "  <thead>\n",
       "    <tr style=\"text-align: right;\">\n",
       "      <th></th>\n",
       "      <th>IDENTIFICACION</th>\n",
       "      <th>EDAD_MESES</th>\n",
       "      <th>EDAD_AÑOS</th>\n",
       "      <th>id_limp</th>\n",
       "    </tr>\n",
       "  </thead>\n",
       "  <tbody>\n",
       "    <tr>\n",
       "      <th>2727334</th>\n",
       "      <td>&gt;</td>\n",
       "      <td>599.581</td>\n",
       "      <td>49.965</td>\n",
       "      <td></td>\n",
       "    </tr>\n",
       "  </tbody>\n",
       "</table>\n",
       "</div>"
      ],
      "text/plain": [
       "        IDENTIFICACION  EDAD_MESES  EDAD_AÑOS id_limp\n",
       "2727334              >     599.581     49.965        "
      ]
     },
     "execution_count": 15,
     "metadata": {},
     "output_type": "execute_result"
    }
   ],
   "source": [
    "baseEnt[baseEnt['IDENTIFICACION']=='>']"
   ]
  },
  {
   "cell_type": "code",
   "execution_count": 16,
   "id": "812c35d4",
   "metadata": {},
   "outputs": [],
   "source": [
    "baseEnt['tipoID']=baseEnt['id_limp'].apply(tipoDocumento)"
   ]
  },
  {
   "cell_type": "code",
   "execution_count": 17,
   "id": "3f6c82b1",
   "metadata": {},
   "outputs": [
    {
     "data": {
      "text/plain": [
       "cedula         5640938\n",
       "desconocido      39326\n",
       "sin id           26091\n",
       "NIT               3396\n",
       "conTexto            58\n",
       "vacio                2\n",
       "Name: tipoID, dtype: int64"
      ]
     },
     "execution_count": 17,
     "metadata": {},
     "output_type": "execute_result"
    }
   ],
   "source": [
    "baseEnt['tipoID'].value_counts()"
   ]
  },
  {
   "cell_type": "code",
   "execution_count": 18,
   "id": "67af7409",
   "metadata": {},
   "outputs": [
    {
     "data": {
      "text/plain": [
       "5709811"
      ]
     },
     "execution_count": 18,
     "metadata": {},
     "output_type": "execute_result"
    }
   ],
   "source": [
    "len(baseEnt)"
   ]
  },
  {
   "cell_type": "code",
   "execution_count": 19,
   "id": "aed30f85",
   "metadata": {},
   "outputs": [],
   "source": [
    "baseEnt=baseEnt.drop_duplicates()"
   ]
  },
  {
   "cell_type": "markdown",
   "id": "aeddfd16",
   "metadata": {},
   "source": [
    "### quitar registros sin EDAD"
   ]
  },
  {
   "cell_type": "code",
   "execution_count": 20,
   "id": "dd6adb47",
   "metadata": {},
   "outputs": [
    {
     "data": {
      "text/plain": [
       "27164"
      ]
     },
     "execution_count": 20,
     "metadata": {},
     "output_type": "execute_result"
    }
   ],
   "source": [
    "baseEnt['EDAD_MESES'].isnull().sum()"
   ]
  },
  {
   "cell_type": "code",
   "execution_count": 21,
   "id": "904e1bbb",
   "metadata": {},
   "outputs": [],
   "source": [
    "baseEnt=baseEnt[baseEnt['EDAD_MESES'].notnull()]"
   ]
  },
  {
   "cell_type": "code",
   "execution_count": 22,
   "id": "a32030bc",
   "metadata": {},
   "outputs": [
    {
     "data": {
      "text/plain": [
       "0"
      ]
     },
     "execution_count": 22,
     "metadata": {},
     "output_type": "execute_result"
    }
   ],
   "source": [
    "baseEnt['EDAD_MESES'].isnull().sum()"
   ]
  },
  {
   "cell_type": "markdown",
   "id": "4ff8145b",
   "metadata": {},
   "source": [
    "### Agregar Columnas a X"
   ]
  },
  {
   "cell_type": "code",
   "execution_count": 23,
   "id": "c0644685",
   "metadata": {},
   "outputs": [],
   "source": [
    "baseEnt['longitud']=baseEnt['id_limp'].str.len()"
   ]
  },
  {
   "cell_type": "code",
   "execution_count": 24,
   "id": "451ce050",
   "metadata": {
    "scrolled": true
   },
   "outputs": [
    {
     "data": {
      "text/html": [
       "<div>\n",
       "<style scoped>\n",
       "    .dataframe tbody tr th:only-of-type {\n",
       "        vertical-align: middle;\n",
       "    }\n",
       "\n",
       "    .dataframe tbody tr th {\n",
       "        vertical-align: top;\n",
       "    }\n",
       "\n",
       "    .dataframe thead th {\n",
       "        text-align: right;\n",
       "    }\n",
       "</style>\n",
       "<table border=\"1\" class=\"dataframe\">\n",
       "  <thead>\n",
       "    <tr style=\"text-align: right;\">\n",
       "      <th></th>\n",
       "      <th>IDENTIFICACION</th>\n",
       "      <th>EDAD_MESES</th>\n",
       "      <th>EDAD_AÑOS</th>\n",
       "      <th>id_limp</th>\n",
       "      <th>tipoID</th>\n",
       "      <th>longitud</th>\n",
       "    </tr>\n",
       "  </thead>\n",
       "  <tbody>\n",
       "    <tr>\n",
       "      <th>0</th>\n",
       "      <td>52193919</td>\n",
       "      <td>562.871</td>\n",
       "      <td>46.906</td>\n",
       "      <td>52193919</td>\n",
       "      <td>cedula</td>\n",
       "      <td>8</td>\n",
       "    </tr>\n",
       "    <tr>\n",
       "      <th>1</th>\n",
       "      <td>1068974045</td>\n",
       "      <td>369.613</td>\n",
       "      <td>30.801</td>\n",
       "      <td>1068974045</td>\n",
       "      <td>cedula</td>\n",
       "      <td>10</td>\n",
       "    </tr>\n",
       "    <tr>\n",
       "      <th>2</th>\n",
       "      <td>1023968294</td>\n",
       "      <td>277.258</td>\n",
       "      <td>23.105</td>\n",
       "      <td>1023968294</td>\n",
       "      <td>cedula</td>\n",
       "      <td>10</td>\n",
       "    </tr>\n",
       "    <tr>\n",
       "      <th>3</th>\n",
       "      <td>79510526</td>\n",
       "      <td>630.323</td>\n",
       "      <td>52.527</td>\n",
       "      <td>79510526</td>\n",
       "      <td>cedula</td>\n",
       "      <td>8</td>\n",
       "    </tr>\n",
       "    <tr>\n",
       "      <th>4</th>\n",
       "      <td>11429424</td>\n",
       "      <td>741.226</td>\n",
       "      <td>61.769</td>\n",
       "      <td>11429424</td>\n",
       "      <td>cedula</td>\n",
       "      <td>8</td>\n",
       "    </tr>\n",
       "  </tbody>\n",
       "</table>\n",
       "</div>"
      ],
      "text/plain": [
       "  IDENTIFICACION  EDAD_MESES  EDAD_AÑOS     id_limp  tipoID  longitud\n",
       "0       52193919     562.871     46.906    52193919  cedula         8\n",
       "1     1068974045     369.613     30.801  1068974045  cedula        10\n",
       "2     1023968294     277.258     23.105  1023968294  cedula        10\n",
       "3       79510526     630.323     52.527    79510526  cedula         8\n",
       "4       11429424     741.226     61.769    11429424  cedula         8"
      ]
     },
     "execution_count": 24,
     "metadata": {},
     "output_type": "execute_result"
    }
   ],
   "source": [
    "baseEnt.head()"
   ]
  },
  {
   "cell_type": "code",
   "execution_count": 25,
   "id": "26a91ad3",
   "metadata": {},
   "outputs": [],
   "source": [
    "baseEnt['num_ini']=baseEnt['id_limp'].str[:3]"
   ]
  },
  {
   "cell_type": "code",
   "execution_count": 26,
   "id": "0e729c62",
   "metadata": {
    "scrolled": true
   },
   "outputs": [
    {
     "data": {
      "text/html": [
       "<div>\n",
       "<style scoped>\n",
       "    .dataframe tbody tr th:only-of-type {\n",
       "        vertical-align: middle;\n",
       "    }\n",
       "\n",
       "    .dataframe tbody tr th {\n",
       "        vertical-align: top;\n",
       "    }\n",
       "\n",
       "    .dataframe thead th {\n",
       "        text-align: right;\n",
       "    }\n",
       "</style>\n",
       "<table border=\"1\" class=\"dataframe\">\n",
       "  <thead>\n",
       "    <tr style=\"text-align: right;\">\n",
       "      <th></th>\n",
       "      <th>IDENTIFICACION</th>\n",
       "      <th>EDAD_MESES</th>\n",
       "      <th>EDAD_AÑOS</th>\n",
       "      <th>id_limp</th>\n",
       "      <th>tipoID</th>\n",
       "      <th>longitud</th>\n",
       "      <th>num_ini</th>\n",
       "    </tr>\n",
       "  </thead>\n",
       "  <tbody>\n",
       "    <tr>\n",
       "      <th>0</th>\n",
       "      <td>52193919</td>\n",
       "      <td>562.871</td>\n",
       "      <td>46.906</td>\n",
       "      <td>52193919</td>\n",
       "      <td>cedula</td>\n",
       "      <td>8</td>\n",
       "      <td>521</td>\n",
       "    </tr>\n",
       "    <tr>\n",
       "      <th>1</th>\n",
       "      <td>1068974045</td>\n",
       "      <td>369.613</td>\n",
       "      <td>30.801</td>\n",
       "      <td>1068974045</td>\n",
       "      <td>cedula</td>\n",
       "      <td>10</td>\n",
       "      <td>106</td>\n",
       "    </tr>\n",
       "    <tr>\n",
       "      <th>2</th>\n",
       "      <td>1023968294</td>\n",
       "      <td>277.258</td>\n",
       "      <td>23.105</td>\n",
       "      <td>1023968294</td>\n",
       "      <td>cedula</td>\n",
       "      <td>10</td>\n",
       "      <td>102</td>\n",
       "    </tr>\n",
       "    <tr>\n",
       "      <th>3</th>\n",
       "      <td>79510526</td>\n",
       "      <td>630.323</td>\n",
       "      <td>52.527</td>\n",
       "      <td>79510526</td>\n",
       "      <td>cedula</td>\n",
       "      <td>8</td>\n",
       "      <td>795</td>\n",
       "    </tr>\n",
       "    <tr>\n",
       "      <th>4</th>\n",
       "      <td>11429424</td>\n",
       "      <td>741.226</td>\n",
       "      <td>61.769</td>\n",
       "      <td>11429424</td>\n",
       "      <td>cedula</td>\n",
       "      <td>8</td>\n",
       "      <td>114</td>\n",
       "    </tr>\n",
       "  </tbody>\n",
       "</table>\n",
       "</div>"
      ],
      "text/plain": [
       "  IDENTIFICACION  EDAD_MESES  EDAD_AÑOS     id_limp  tipoID  longitud num_ini\n",
       "0       52193919     562.871     46.906    52193919  cedula         8     521\n",
       "1     1068974045     369.613     30.801  1068974045  cedula        10     106\n",
       "2     1023968294     277.258     23.105  1023968294  cedula        10     102\n",
       "3       79510526     630.323     52.527    79510526  cedula         8     795\n",
       "4       11429424     741.226     61.769    11429424  cedula         8     114"
      ]
     },
     "execution_count": 26,
     "metadata": {},
     "output_type": "execute_result"
    }
   ],
   "source": [
    "baseEnt.head()"
   ]
  },
  {
   "cell_type": "markdown",
   "id": "18ed82f6",
   "metadata": {},
   "source": [
    "## Muestras para entrenamiento, separación grupos"
   ]
  },
  {
   "cell_type": "code",
   "execution_count": 27,
   "id": "2c74c53d",
   "metadata": {},
   "outputs": [],
   "source": [
    "baseEntF=baseEnt[(baseEnt['tipoID']=='cedula') | (baseEnt['tipoID']=='sin id')]"
   ]
  },
  {
   "cell_type": "code",
   "execution_count": 28,
   "id": "a76124f1",
   "metadata": {},
   "outputs": [],
   "source": [
    "baseEntF=baseEntF[(baseEntF['EDAD_AÑOS']>=5) &(baseEntF['EDAD_AÑOS']<=90)]"
   ]
  },
  {
   "cell_type": "markdown",
   "id": "01a47432",
   "metadata": {},
   "source": [
    "### Validar tipo"
   ]
  },
  {
   "cell_type": "code",
   "execution_count": 29,
   "id": "bc20643f",
   "metadata": {},
   "outputs": [],
   "source": [
    "baseEntF['id_limp']=baseEntF['id_limp'].astype('int64')\n",
    "baseEntF['num_ini']=baseEntF['num_ini'].astype('int64')"
   ]
  },
  {
   "cell_type": "code",
   "execution_count": 30,
   "id": "b4560227",
   "metadata": {},
   "outputs": [
    {
     "data": {
      "image/png": "[encoded data removed]",
      "text/plain": [
       "<Figure size 432x288 with 1 Axes>"
      ]
     },
     "metadata": {
      "needs_background": "light"
     },
     "output_type": "display_data"
    }
   ],
   "source": [
    "fig, ax = plt.subplots()\n",
    "sns.violinplot(ax=ax,x=baseEntF['id_limp']);"
   ]
  },
  {
   "cell_type": "code",
   "execution_count": 31,
   "id": "9be89cfe",
   "metadata": {},
   "outputs": [],
   "source": [
    "baseEntF['cat_id']=np.where(\n",
    "                            baseEntF['longitud']==10,'act2004', np.where(\n",
    "                                baseEntF['id_limp']<20000000,'H1', np.where(\n",
    "                                    baseEntF['id_limp']<70000000,'M1', np.where(\n",
    "                                        baseEntF['id_limp']<100000000,'H2','rev')\n",
    "                                    )\n",
    "                                )\n",
    "                )"
   ]
  },
  {
   "cell_type": "code",
   "execution_count": 32,
   "id": "92713902",
   "metadata": {},
   "outputs": [
    {
     "data": {
      "text/plain": [
       "act2004    2185292\n",
       "M1         1635879\n",
       "H1          934199\n",
       "H2          849151\n",
       "Name: cat_id, dtype: int64"
      ]
     },
     "execution_count": 32,
     "metadata": {},
     "output_type": "execute_result"
    }
   ],
   "source": [
    "baseEntF['cat_id'].value_counts()"
   ]
  },
  {
   "cell_type": "code",
   "execution_count": 33,
   "id": "e6648f37",
   "metadata": {
    "scrolled": false
   },
   "outputs": [
    {
     "data": {
      "image/png": "[encoded data removed]",
      "text/plain": [
       "<Figure size 1080x432 with 4 Axes>"
      ]
     },
     "metadata": {
      "needs_background": "light"
     },
     "output_type": "display_data"
    }
   ],
   "source": [
    "fig, ax = plt.subplots(4,1, figsize = (15, 6))\n",
    "i=0\n",
    "for cat in baseEntF['cat_id'].unique():\n",
    "    sns.violinplot(ax=ax[i],x=baseEntF[baseEntF['cat_id']==cat]['EDAD_AÑOS']);\n",
    "    ax[i].set_title(cat)\n",
    "    i=i+1\n",
    "plt.tight_layout()\n",
    "plt.show()"
   ]
  },
  {
   "cell_type": "markdown",
   "id": "d4d08c3c",
   "metadata": {},
   "source": [
    "###  Ubicar Anómalos"
   ]
  },
  {
   "cell_type": "code",
   "execution_count": 34,
   "id": "dd400294",
   "metadata": {},
   "outputs": [],
   "source": [
    "dicSinAnom={\n",
    "        'M1':35,\n",
    "        'H2':35,\n",
    "        'H2':35,\n",
    "        'act2004':35\n",
    "}"
   ]
  },
  {
   "cell_type": "code",
   "execution_count": 35,
   "id": "80d4924c",
   "metadata": {},
   "outputs": [
    {
     "data": {
      "text/html": [
       "<div>\n",
       "<style scoped>\n",
       "    .dataframe tbody tr th:only-of-type {\n",
       "        vertical-align: middle;\n",
       "    }\n",
       "\n",
       "    .dataframe tbody tr th {\n",
       "        vertical-align: top;\n",
       "    }\n",
       "\n",
       "    .dataframe thead th {\n",
       "        text-align: right;\n",
       "    }\n",
       "</style>\n",
       "<table border=\"1\" class=\"dataframe\">\n",
       "  <thead>\n",
       "    <tr style=\"text-align: right;\">\n",
       "      <th></th>\n",
       "      <th>EDAD_MESES</th>\n",
       "      <th>EDAD_AÑOS</th>\n",
       "      <th>id_limp</th>\n",
       "      <th>longitud</th>\n",
       "      <th>num_ini</th>\n",
       "    </tr>\n",
       "  </thead>\n",
       "  <tbody>\n",
       "    <tr>\n",
       "      <th>count</th>\n",
       "      <td>2185292.000</td>\n",
       "      <td>2185292.000</td>\n",
       "      <td>2185292.000</td>\n",
       "      <td>2185292.000</td>\n",
       "      <td>2185292.000</td>\n",
       "    </tr>\n",
       "    <tr>\n",
       "      <th>mean</th>\n",
       "      <td>343.963</td>\n",
       "      <td>28.664</td>\n",
       "      <td>1066940568.497</td>\n",
       "      <td>10.000</td>\n",
       "      <td>106.239</td>\n",
       "    </tr>\n",
       "    <tr>\n",
       "      <th>std</th>\n",
       "      <td>62.070</td>\n",
       "      <td>5.172</td>\n",
       "      <td>48177172.545</td>\n",
       "      <td>0.000</td>\n",
       "      <td>4.823</td>\n",
       "    </tr>\n",
       "    <tr>\n",
       "      <th>min</th>\n",
       "      <td>60.000</td>\n",
       "      <td>5.000</td>\n",
       "      <td>1000000032.000</td>\n",
       "      <td>10.000</td>\n",
       "      <td>100.000</td>\n",
       "    </tr>\n",
       "    <tr>\n",
       "      <th>25%</th>\n",
       "      <td>298.774</td>\n",
       "      <td>24.898</td>\n",
       "      <td>1023870406.750</td>\n",
       "      <td>10.000</td>\n",
       "      <td>102.000</td>\n",
       "    </tr>\n",
       "    <tr>\n",
       "      <th>50%</th>\n",
       "      <td>345.065</td>\n",
       "      <td>28.755</td>\n",
       "      <td>1064718815.000</td>\n",
       "      <td>10.000</td>\n",
       "      <td>106.000</td>\n",
       "    </tr>\n",
       "    <tr>\n",
       "      <th>75%</th>\n",
       "      <td>387.806</td>\n",
       "      <td>32.317</td>\n",
       "      <td>1100969829.000</td>\n",
       "      <td>10.000</td>\n",
       "      <td>110.000</td>\n",
       "    </tr>\n",
       "    <tr>\n",
       "      <th>max</th>\n",
       "      <td>1079.452</td>\n",
       "      <td>89.954</td>\n",
       "      <td>1999123456.000</td>\n",
       "      <td>10.000</td>\n",
       "      <td>199.000</td>\n",
       "    </tr>\n",
       "  </tbody>\n",
       "</table>\n",
       "</div>"
      ],
      "text/plain": [
       "       EDAD_MESES   EDAD_AÑOS        id_limp    longitud     num_ini\n",
       "count 2185292.000 2185292.000    2185292.000 2185292.000 2185292.000\n",
       "mean      343.963      28.664 1066940568.497      10.000     106.239\n",
       "std        62.070       5.172   48177172.545       0.000       4.823\n",
       "min        60.000       5.000 1000000032.000      10.000     100.000\n",
       "25%       298.774      24.898 1023870406.750      10.000     102.000\n",
       "50%       345.065      28.755 1064718815.000      10.000     106.000\n",
       "75%       387.806      32.317 1100969829.000      10.000     110.000\n",
       "max      1079.452      89.954 1999123456.000      10.000     199.000"
      ]
     },
     "execution_count": 35,
     "metadata": {},
     "output_type": "execute_result"
    }
   ],
   "source": [
    "baseEntF[baseEntF['cat_id']=='act2004'].describe()"
   ]
  },
  {
   "cell_type": "code",
   "execution_count": 36,
   "id": "c0383185",
   "metadata": {},
   "outputs": [
    {
     "data": {
      "text/plain": [
       "27.69349462364167"
      ]
     },
     "execution_count": 36,
     "metadata": {},
     "output_type": "execute_result"
    }
   ],
   "source": [
    "baseEntF[baseEntF['cat_id']=='H1']['EDAD_AÑOS'].quantile(0.01)"
   ]
  },
  {
   "cell_type": "code",
   "execution_count": 37,
   "id": "649b9f73",
   "metadata": {},
   "outputs": [],
   "source": [
    "df_H1=baseEntF[(baseEntF['cat_id']=='H1') &(baseEntF['EDAD_AÑOS']>=35)]\n",
    "df_H2=baseEntF[(baseEntF['cat_id']=='H2') &(baseEntF['EDAD_AÑOS']>=35)]\n",
    "df_M1=baseEntF[(baseEntF['cat_id']=='M1') &(baseEntF['EDAD_AÑOS']>=35)]\n",
    "df_act2004=baseEntF[(baseEntF['cat_id']=='act2004') &(baseEntF['EDAD_AÑOS']<=35)]"
   ]
  },
  {
   "cell_type": "code",
   "execution_count": 38,
   "id": "687140a2",
   "metadata": {},
   "outputs": [
    {
     "data": {
      "text/plain": [
       "15"
      ]
     },
     "execution_count": 38,
     "metadata": {},
     "output_type": "execute_result"
    }
   ],
   "source": [
    "##limpiar Memoria\n",
    "#limpiar Memoria\n",
    "del baseEntF\n",
    "del baseEnt\n",
    "#del modelo1\n",
    "#del df_H1\n",
    "gc.collect()"
   ]
  },
  {
   "cell_type": "code",
   "execution_count": 152,
   "id": "8d09a3ec",
   "metadata": {},
   "outputs": [],
   "source": [
    "#usoMemoria()"
   ]
  },
  {
   "cell_type": "code",
   "execution_count": null,
   "id": "661dd139",
   "metadata": {},
   "outputs": [],
   "source": [
    "#scatter plots"
   ]
  },
  {
   "cell_type": "code",
   "execution_count": 39,
   "id": "2ad71ee1",
   "metadata": {},
   "outputs": [
    {
     "data": {
      "text/plain": [
       "<AxesSubplot:xlabel='id_limp', ylabel='EDAD_AÑOS'>"
      ]
     },
     "execution_count": 39,
     "metadata": {},
     "output_type": "execute_result"
    },
    {
     "data": {
      "image/png": "[encoded data removed]",
      "text/plain": [
       "<Figure size 432x288 with 1 Axes>"
      ]
     },
     "metadata": {
      "needs_background": "light"
     },
     "output_type": "display_data"
    }
   ],
   "source": [
    "df_H1.plot.scatter(x='id_limp',y='EDAD_AÑOS',c='DarkBlue')"
   ]
  },
  {
   "cell_type": "code",
   "execution_count": 40,
   "id": "42f37bfa",
   "metadata": {},
   "outputs": [
    {
     "data": {
      "text/plain": [
       "<AxesSubplot:xlabel='id_limp', ylabel='EDAD_AÑOS'>"
      ]
     },
     "execution_count": 40,
     "metadata": {},
     "output_type": "execute_result"
    },
    {
     "data": {
      "image/png": "[encoded data removed]",
      "text/plain": [
       "<Figure size 432x288 with 1 Axes>"
      ]
     },
     "metadata": {
      "needs_background": "light"
     },
     "output_type": "display_data"
    }
   ],
   "source": [
    "df_H2.plot.scatter(x='id_limp',y='EDAD_AÑOS',c='DarkBlue')"
   ]
  },
  {
   "cell_type": "code",
   "execution_count": 41,
   "id": "72a83730",
   "metadata": {},
   "outputs": [
    {
     "data": {
      "text/plain": [
       "<AxesSubplot:xlabel='id_limp', ylabel='EDAD_AÑOS'>"
      ]
     },
     "execution_count": 41,
     "metadata": {},
     "output_type": "execute_result"
    },
    {
     "data": {
      "image/png": "[encoded data removed]",
      "text/plain": [
       "<Figure size 432x288 with 1 Axes>"
      ]
     },
     "metadata": {
      "needs_background": "light"
     },
     "output_type": "display_data"
    }
   ],
   "source": [
    "df_M1.plot.scatter(x='id_limp',y='EDAD_AÑOS',c='DarkBlue')"
   ]
  },
  {
   "cell_type": "code",
   "execution_count": 42,
   "id": "19b31c04",
   "metadata": {},
   "outputs": [
    {
     "data": {
      "text/plain": [
       "<AxesSubplot:xlabel='id_limp', ylabel='EDAD_AÑOS'>"
      ]
     },
     "execution_count": 42,
     "metadata": {},
     "output_type": "execute_result"
    },
    {
     "data": {
      "image/png": "[encoded data removed]",
      "text/plain": [
       "<Figure size 432x288 with 1 Axes>"
      ]
     },
     "metadata": {
      "needs_background": "light"
     },
     "output_type": "display_data"
    }
   ],
   "source": [
    "df_act2004.plot.scatter(x='id_limp',y='EDAD_AÑOS',c='DarkBlue')"
   ]
  },
  {
   "cell_type": "markdown",
   "id": "f447b8ef",
   "metadata": {},
   "source": [
    "## prueba modelos\n",
    "* Arbol de desicion Reg\n",
    "* RandomForest reg\n",
    "* LGBMReg\n",
    "\n",
    "* Prueba sin separar grupos"
   ]
  },
  {
   "cell_type": "code",
   "execution_count": 155,
   "id": "efbf40f7",
   "metadata": {},
   "outputs": [],
   "source": [
    "Xvar=df_H1[['id_limp','longitud','num_ini']]\n",
    "yvar=df_H1['EDAD_AÑOS']"
   ]
  },
  {
   "cell_type": "code",
   "execution_count": 156,
   "id": "fb72c6d3",
   "metadata": {},
   "outputs": [],
   "source": [
    "X_train, X_test, y_train, y_test = train_test_split(Xvar, yvar, test_size = 0.3, random_state = 86, shuffle= True)"
   ]
  },
  {
   "cell_type": "code",
   "execution_count": 157,
   "id": "e65a1896",
   "metadata": {},
   "outputs": [],
   "source": [
    "modelo_H1=xgb.XGBRegressor(max_depth=80, verbosity= 0, subsample=0.5,  n_estimators=472, n_jobs=-1, objective='reg:squarederror', booster='gbtree', random_state=42, learning_rate=0.04, reg_lambda=1)"
   ]
  },
  {
   "cell_type": "code",
   "execution_count": 158,
   "id": "2d07d0bc",
   "metadata": {},
   "outputs": [
    {
     "name": "stdout",
     "output_type": "stream",
     "text": [
      "[0]\tvalidation_0-rmse:53.61058\tvalidation_1-rmse:53.59901\n",
      "[1]\tvalidation_0-rmse:51.49617\tvalidation_1-rmse:51.48530\n",
      "[2]\tvalidation_0-rmse:49.46657\tvalidation_1-rmse:49.45639\n",
      "[3]\tvalidation_0-rmse:47.51793\tvalidation_1-rmse:47.50858\n",
      "[4]\tvalidation_0-rmse:45.64826\tvalidation_1-rmse:45.63944\n",
      "[5]\tvalidation_0-rmse:43.85307\tvalidation_1-rmse:43.84494\n",
      "[6]\tvalidation_0-rmse:42.12982\tvalidation_1-rmse:42.12278\n",
      "[7]\tvalidation_0-rmse:40.47572\tvalidation_1-rmse:40.46949\n",
      "[8]\tvalidation_0-rmse:38.88818\tvalidation_1-rmse:38.88291\n",
      "[9]\tvalidation_0-rmse:37.36432\tvalidation_1-rmse:37.36001\n",
      "[10]\tvalidation_0-rmse:35.90187\tvalidation_1-rmse:35.89863\n",
      "[11]\tvalidation_0-rmse:34.49828\tvalidation_1-rmse:34.49579\n",
      "[12]\tvalidation_0-rmse:33.15047\tvalidation_1-rmse:33.14913\n",
      "[13]\tvalidation_0-rmse:31.85738\tvalidation_1-rmse:31.85726\n",
      "[14]\tvalidation_0-rmse:30.61681\tvalidation_1-rmse:30.61780\n",
      "[15]\tvalidation_0-rmse:29.42576\tvalidation_1-rmse:29.42814\n",
      "[16]\tvalidation_0-rmse:28.28298\tvalidation_1-rmse:28.28706\n",
      "[17]\tvalidation_0-rmse:27.18632\tvalidation_1-rmse:27.19220\n",
      "[18]\tvalidation_0-rmse:26.13375\tvalidation_1-rmse:26.14126\n",
      "[19]\tvalidation_0-rmse:25.12397\tvalidation_1-rmse:25.13333\n",
      "[20]\tvalidation_0-rmse:24.15470\tvalidation_1-rmse:24.16612\n",
      "[21]\tvalidation_0-rmse:23.22486\tvalidation_1-rmse:23.23797\n",
      "[22]\tvalidation_0-rmse:22.33238\tvalidation_1-rmse:22.34771\n",
      "[23]\tvalidation_0-rmse:21.47608\tvalidation_1-rmse:21.49382\n",
      "[24]\tvalidation_0-rmse:20.65468\tvalidation_1-rmse:20.67506\n",
      "[25]\tvalidation_0-rmse:19.86648\tvalidation_1-rmse:19.88983\n",
      "[26]\tvalidation_0-rmse:19.11067\tvalidation_1-rmse:19.13703\n",
      "[27]\tvalidation_0-rmse:18.38546\tvalidation_1-rmse:18.41495\n",
      "[28]\tvalidation_0-rmse:17.68941\tvalidation_1-rmse:17.72213\n",
      "[29]\tvalidation_0-rmse:17.02189\tvalidation_1-rmse:17.05824\n",
      "[30]\tvalidation_0-rmse:16.38143\tvalidation_1-rmse:16.42179\n",
      "[31]\tvalidation_0-rmse:15.76722\tvalidation_1-rmse:15.81169\n",
      "[32]\tvalidation_0-rmse:15.17807\tvalidation_1-rmse:15.22676\n",
      "[33]\tvalidation_0-rmse:14.61389\tvalidation_1-rmse:14.66764\n",
      "[34]\tvalidation_0-rmse:14.07228\tvalidation_1-rmse:14.13091\n",
      "[35]\tvalidation_0-rmse:13.55306\tvalidation_1-rmse:13.61694\n",
      "[36]\tvalidation_0-rmse:13.05513\tvalidation_1-rmse:13.12445\n",
      "[37]\tvalidation_0-rmse:12.57737\tvalidation_1-rmse:12.65295\n",
      "[38]\tvalidation_0-rmse:12.12005\tvalidation_1-rmse:12.20199\n",
      "[39]\tvalidation_0-rmse:11.68175\tvalidation_1-rmse:11.77051\n",
      "[40]\tvalidation_0-rmse:11.26125\tvalidation_1-rmse:11.35754\n",
      "[41]\tvalidation_0-rmse:10.85868\tvalidation_1-rmse:10.96225\n",
      "[42]\tvalidation_0-rmse:10.47295\tvalidation_1-rmse:10.58448\n",
      "[43]\tvalidation_0-rmse:10.10376\tvalidation_1-rmse:10.22398\n",
      "[44]\tvalidation_0-rmse:9.74962\tvalidation_1-rmse:9.87884\n",
      "[45]\tvalidation_0-rmse:9.41056\tvalidation_1-rmse:9.54937\n",
      "[46]\tvalidation_0-rmse:9.08544\tvalidation_1-rmse:9.23395\n",
      "[47]\tvalidation_0-rmse:8.77405\tvalidation_1-rmse:8.93311\n",
      "[48]\tvalidation_0-rmse:8.47599\tvalidation_1-rmse:8.64625\n",
      "[49]\tvalidation_0-rmse:8.19027\tvalidation_1-rmse:8.37184\n",
      "[50]\tvalidation_0-rmse:7.91708\tvalidation_1-rmse:8.11023\n",
      "[51]\tvalidation_0-rmse:7.65565\tvalidation_1-rmse:7.86173\n",
      "[52]\tvalidation_0-rmse:7.40547\tvalidation_1-rmse:7.62446\n",
      "[53]\tvalidation_0-rmse:7.16630\tvalidation_1-rmse:7.39947\n",
      "[54]\tvalidation_0-rmse:6.93715\tvalidation_1-rmse:7.18466\n",
      "[55]\tvalidation_0-rmse:6.71830\tvalidation_1-rmse:6.98001\n",
      "[56]\tvalidation_0-rmse:6.50868\tvalidation_1-rmse:6.78572\n",
      "[57]\tvalidation_0-rmse:6.30845\tvalidation_1-rmse:6.60162\n",
      "[58]\tvalidation_0-rmse:6.11695\tvalidation_1-rmse:6.42638\n",
      "[59]\tvalidation_0-rmse:5.93397\tvalidation_1-rmse:6.26055\n",
      "[60]\tvalidation_0-rmse:5.75913\tvalidation_1-rmse:6.10316\n",
      "[61]\tvalidation_0-rmse:5.59238\tvalidation_1-rmse:5.95465\n",
      "[62]\tvalidation_0-rmse:5.43293\tvalidation_1-rmse:5.81375\n",
      "[63]\tvalidation_0-rmse:5.28066\tvalidation_1-rmse:5.68099\n",
      "[64]\tvalidation_0-rmse:5.13470\tvalidation_1-rmse:5.55524\n",
      "[65]\tvalidation_0-rmse:4.99562\tvalidation_1-rmse:5.43668\n",
      "[66]\tvalidation_0-rmse:4.86280\tvalidation_1-rmse:5.32522\n",
      "[67]\tvalidation_0-rmse:4.73570\tvalidation_1-rmse:5.21939\n",
      "[68]\tvalidation_0-rmse:4.61459\tvalidation_1-rmse:5.12007\n",
      "[69]\tvalidation_0-rmse:4.49940\tvalidation_1-rmse:5.02664\n",
      "[70]\tvalidation_0-rmse:4.38843\tvalidation_1-rmse:4.93882\n",
      "[71]\tvalidation_0-rmse:4.28300\tvalidation_1-rmse:4.85628\n",
      "[72]\tvalidation_0-rmse:4.18157\tvalidation_1-rmse:4.77902\n",
      "[73]\tvalidation_0-rmse:4.08479\tvalidation_1-rmse:4.70629\n",
      "[74]\tvalidation_0-rmse:3.99238\tvalidation_1-rmse:4.63790\n",
      "[75]\tvalidation_0-rmse:3.90387\tvalidation_1-rmse:4.57450\n",
      "[76]\tvalidation_0-rmse:3.81894\tvalidation_1-rmse:4.51524\n",
      "[77]\tvalidation_0-rmse:3.73802\tvalidation_1-rmse:4.46018\n",
      "[78]\tvalidation_0-rmse:3.66051\tvalidation_1-rmse:4.40807\n",
      "[79]\tvalidation_0-rmse:3.58676\tvalidation_1-rmse:4.36031\n",
      "[80]\tvalidation_0-rmse:3.51477\tvalidation_1-rmse:4.31633\n",
      "[81]\tvalidation_0-rmse:3.44617\tvalidation_1-rmse:4.27552\n",
      "[82]\tvalidation_0-rmse:3.38061\tvalidation_1-rmse:4.23718\n",
      "[83]\tvalidation_0-rmse:3.31747\tvalidation_1-rmse:4.20151\n",
      "[84]\tvalidation_0-rmse:3.25698\tvalidation_1-rmse:4.16918\n",
      "[85]\tvalidation_0-rmse:3.19919\tvalidation_1-rmse:4.13953\n",
      "[86]\tvalidation_0-rmse:3.14418\tvalidation_1-rmse:4.11221\n",
      "[87]\tvalidation_0-rmse:3.09095\tvalidation_1-rmse:4.08647\n",
      "[88]\tvalidation_0-rmse:3.04030\tvalidation_1-rmse:4.06308\n",
      "[89]\tvalidation_0-rmse:2.99115\tvalidation_1-rmse:4.04194\n",
      "[90]\tvalidation_0-rmse:2.94464\tvalidation_1-rmse:4.02261\n",
      "[91]\tvalidation_0-rmse:2.89970\tvalidation_1-rmse:4.00486\n",
      "[92]\tvalidation_0-rmse:2.85640\tvalidation_1-rmse:3.98895\n",
      "[93]\tvalidation_0-rmse:2.81460\tvalidation_1-rmse:3.97470\n",
      "[94]\tvalidation_0-rmse:2.77452\tvalidation_1-rmse:3.96173\n",
      "[95]\tvalidation_0-rmse:2.73606\tvalidation_1-rmse:3.95005\n",
      "[96]\tvalidation_0-rmse:2.69886\tvalidation_1-rmse:3.93900\n",
      "[97]\tvalidation_0-rmse:2.66285\tvalidation_1-rmse:3.92927\n",
      "[98]\tvalidation_0-rmse:2.62847\tvalidation_1-rmse:3.92071\n",
      "[99]\tvalidation_0-rmse:2.59512\tvalidation_1-rmse:3.91299\n",
      "[100]\tvalidation_0-rmse:2.56340\tvalidation_1-rmse:3.90632\n",
      "[101]\tvalidation_0-rmse:2.53241\tvalidation_1-rmse:3.90005\n",
      "[102]\tvalidation_0-rmse:2.50275\tvalidation_1-rmse:3.89452\n",
      "[103]\tvalidation_0-rmse:2.47362\tvalidation_1-rmse:3.88993\n",
      "[104]\tvalidation_0-rmse:2.44557\tvalidation_1-rmse:3.88660\n",
      "[105]\tvalidation_0-rmse:2.41833\tvalidation_1-rmse:3.88343\n",
      "[106]\tvalidation_0-rmse:2.39209\tvalidation_1-rmse:3.88070\n",
      "[107]\tvalidation_0-rmse:2.36683\tvalidation_1-rmse:3.87793\n",
      "[108]\tvalidation_0-rmse:2.34185\tvalidation_1-rmse:3.87571\n",
      "[109]\tvalidation_0-rmse:2.31801\tvalidation_1-rmse:3.87431\n",
      "[110]\tvalidation_0-rmse:2.29435\tvalidation_1-rmse:3.87374\n",
      "[111]\tvalidation_0-rmse:2.27176\tvalidation_1-rmse:3.87338\n",
      "[112]\tvalidation_0-rmse:2.24943\tvalidation_1-rmse:3.87317\n",
      "[113]\tvalidation_0-rmse:2.22800\tvalidation_1-rmse:3.87381\n",
      "[114]\tvalidation_0-rmse:2.20714\tvalidation_1-rmse:3.87429\n",
      "[115]\tvalidation_0-rmse:2.18648\tvalidation_1-rmse:3.87514\n",
      "[116]\tvalidation_0-rmse:2.16643\tvalidation_1-rmse:3.87615\n"
     ]
    },
    {
     "data": {
      "text/plain": [
       "XGBRegressor(base_score=0.5, booster='gbtree', colsample_bylevel=1,\n",
       "             colsample_bynode=1, colsample_bytree=1, gamma=0, gpu_id=-1,\n",
       "             importance_type='gain', interaction_constraints='',\n",
       "             learning_rate=0.04, max_delta_step=0, max_depth=80,\n",
       "             min_child_weight=1, missing=nan, monotone_constraints='()',\n",
       "             n_estimators=472, n_jobs=-1, num_parallel_tree=1, random_state=42,\n",
       "             reg_alpha=0, reg_lambda=1, scale_pos_weight=1, subsample=0.5,\n",
       "             tree_method='exact', validate_parameters=1, verbosity=0)"
      ]
     },
     "execution_count": 158,
     "metadata": {},
     "output_type": "execute_result"
    }
   ],
   "source": [
    "modelo_H1.fit(X_train, y_train, eval_set=[(X_train, y_train), (X_test, y_test)], early_stopping_rounds=5)\n",
    "#modelo_H1=modelo1"
   ]
  },
  {
   "cell_type": "code",
   "execution_count": 159,
   "id": "be5b5730",
   "metadata": {},
   "outputs": [
    {
     "data": {
      "text/plain": [
       "<AxesSubplot:title={'center':'Feature importance'}, xlabel='F score', ylabel='Features'>"
      ]
     },
     "execution_count": 159,
     "metadata": {},
     "output_type": "execute_result"
    },
    {
     "data": {
      "image/png": "[encoded data removed]",
      "text/plain": [
       "<Figure size 432x288 with 1 Axes>"
      ]
     },
     "metadata": {
      "needs_background": "light"
     },
     "output_type": "display_data"
    }
   ],
   "source": [
    "xgb.plot_importance(modelo_H1) "
   ]
  },
  {
   "cell_type": "code",
   "execution_count": 165,
   "id": "cdd83b24",
   "metadata": {},
   "outputs": [],
   "source": [
    "data = {'id_limp': [19446953,19333333], 'longitud': [8,8], 'num_ini':[194,193]}\n",
    "data =pd.DataFrame(data)"
   ]
  },
  {
   "cell_type": "code",
   "execution_count": 166,
   "id": "479a176c",
   "metadata": {},
   "outputs": [
    {
     "data": {
      "text/plain": [
       "array([60.06572, 62.01851], dtype=float32)"
      ]
     },
     "execution_count": 166,
     "metadata": {},
     "output_type": "execute_result"
    }
   ],
   "source": [
    "modelo_H1.predict(data)"
   ]
  },
  {
   "cell_type": "code",
   "execution_count": 167,
   "id": "b225de6f",
   "metadata": {},
   "outputs": [
    {
     "data": {
      "text/plain": [
       "['modeloXGB_H1.pkl']"
      ]
     },
     "execution_count": 167,
     "metadata": {},
     "output_type": "execute_result"
    }
   ],
   "source": [
    "##guardarModelo\n",
    "dump(modelo_H1,'modeloXGB_H1.pkl')"
   ]
  },
  {
   "cell_type": "code",
   "execution_count": 168,
   "id": "f0f3648b",
   "metadata": {},
   "outputs": [
    {
     "data": {
      "text/plain": [
       "288"
      ]
     },
     "execution_count": 168,
     "metadata": {},
     "output_type": "execute_result"
    }
   ],
   "source": [
    "gc.collect()"
   ]
  },
  {
   "cell_type": "code",
   "execution_count": 169,
   "id": "8c6e4f9d",
   "metadata": {},
   "outputs": [
    {
     "data": {
      "text/plain": [
       "15"
      ]
     },
     "execution_count": 169,
     "metadata": {},
     "output_type": "execute_result"
    }
   ],
   "source": [
    "#limpiar Memoria\n",
    "#del baseEntF\n",
    "#del baseEnt\n",
    "#del modelo1\n",
    "del df_H1\n",
    "gc.collect()"
   ]
  },
  {
   "cell_type": "markdown",
   "id": "e0a71020",
   "metadata": {},
   "source": [
    "### Modelos H2"
   ]
  },
  {
   "cell_type": "code",
   "execution_count": 170,
   "id": "87f7cf87",
   "metadata": {},
   "outputs": [],
   "source": [
    "Xvar=df_H2[['id_limp','longitud','num_ini']]\n",
    "yvar=df_H2['EDAD_AÑOS']"
   ]
  },
  {
   "cell_type": "code",
   "execution_count": 171,
   "id": "6a2dfab3",
   "metadata": {},
   "outputs": [],
   "source": [
    "X_train, X_test, y_train, y_test = train_test_split(Xvar, yvar, test_size = 0.3, random_state = 86, shuffle= True)"
   ]
  },
  {
   "cell_type": "code",
   "execution_count": 172,
   "id": "9b1bb201",
   "metadata": {},
   "outputs": [],
   "source": [
    "modelo_H2=xgb.XGBRegressor(max_depth=80, verbosity= 0, subsample=0.5,  n_estimators=472, n_jobs=-1, objective='reg:squarederror', booster='gbtree', random_state=42, learning_rate=0.04, reg_lambda=1)"
   ]
  },
  {
   "cell_type": "code",
   "execution_count": 173,
   "id": "0f192f79",
   "metadata": {},
   "outputs": [
    {
     "name": "stdout",
     "output_type": "stream",
     "text": [
      "[0]\tvalidation_0-rmse:45.01800\tvalidation_1-rmse:45.01913\n",
      "[1]\tvalidation_0-rmse:43.22969\tvalidation_1-rmse:43.23125\n",
      "[2]\tvalidation_0-rmse:41.51302\tvalidation_1-rmse:41.51507\n",
      "[3]\tvalidation_0-rmse:39.86511\tvalidation_1-rmse:39.86748\n",
      "[4]\tvalidation_0-rmse:38.28301\tvalidation_1-rmse:38.28550\n",
      "[5]\tvalidation_0-rmse:36.76450\tvalidation_1-rmse:36.76727\n",
      "[6]\tvalidation_0-rmse:35.30685\tvalidation_1-rmse:35.30996\n",
      "[7]\tvalidation_0-rmse:33.90748\tvalidation_1-rmse:33.91077\n",
      "[8]\tvalidation_0-rmse:32.56417\tvalidation_1-rmse:32.56775\n",
      "[9]\tvalidation_0-rmse:31.27510\tvalidation_1-rmse:31.27897\n",
      "[10]\tvalidation_0-rmse:30.03766\tvalidation_1-rmse:30.04176\n",
      "[11]\tvalidation_0-rmse:28.84947\tvalidation_1-rmse:28.85380\n",
      "[12]\tvalidation_0-rmse:27.70917\tvalidation_1-rmse:27.71362\n",
      "[13]\tvalidation_0-rmse:26.61471\tvalidation_1-rmse:26.61936\n",
      "[14]\tvalidation_0-rmse:25.56408\tvalidation_1-rmse:25.56872\n",
      "[15]\tvalidation_0-rmse:24.55537\tvalidation_1-rmse:24.56002\n",
      "[16]\tvalidation_0-rmse:23.58737\tvalidation_1-rmse:23.59216\n",
      "[17]\tvalidation_0-rmse:22.65827\tvalidation_1-rmse:22.66318\n",
      "[18]\tvalidation_0-rmse:21.76620\tvalidation_1-rmse:21.77136\n",
      "[19]\tvalidation_0-rmse:20.91030\tvalidation_1-rmse:20.91576\n",
      "[20]\tvalidation_0-rmse:20.08866\tvalidation_1-rmse:20.09426\n",
      "[21]\tvalidation_0-rmse:19.29994\tvalidation_1-rmse:19.30567\n",
      "[22]\tvalidation_0-rmse:18.54338\tvalidation_1-rmse:18.54913\n",
      "[23]\tvalidation_0-rmse:17.81727\tvalidation_1-rmse:17.82310\n",
      "[24]\tvalidation_0-rmse:17.12018\tvalidation_1-rmse:17.12622\n",
      "[25]\tvalidation_0-rmse:16.45156\tvalidation_1-rmse:16.45767\n",
      "[26]\tvalidation_0-rmse:15.80965\tvalidation_1-rmse:15.81600\n",
      "[27]\tvalidation_0-rmse:15.19373\tvalidation_1-rmse:15.20005\n",
      "[28]\tvalidation_0-rmse:14.60309\tvalidation_1-rmse:14.60959\n",
      "[29]\tvalidation_0-rmse:14.03600\tvalidation_1-rmse:14.04273\n",
      "[30]\tvalidation_0-rmse:13.49170\tvalidation_1-rmse:13.49857\n",
      "[31]\tvalidation_0-rmse:12.96938\tvalidation_1-rmse:12.97659\n",
      "[32]\tvalidation_0-rmse:12.46870\tvalidation_1-rmse:12.47611\n",
      "[33]\tvalidation_0-rmse:11.98848\tvalidation_1-rmse:11.99625\n",
      "[34]\tvalidation_0-rmse:11.52777\tvalidation_1-rmse:11.53592\n",
      "[35]\tvalidation_0-rmse:11.08589\tvalidation_1-rmse:11.09424\n",
      "[36]\tvalidation_0-rmse:10.66190\tvalidation_1-rmse:10.67060\n",
      "[37]\tvalidation_0-rmse:10.25555\tvalidation_1-rmse:10.26479\n",
      "[38]\tvalidation_0-rmse:9.86571\tvalidation_1-rmse:9.87541\n",
      "[39]\tvalidation_0-rmse:9.49173\tvalidation_1-rmse:9.50206\n",
      "[40]\tvalidation_0-rmse:9.13340\tvalidation_1-rmse:9.14449\n",
      "[41]\tvalidation_0-rmse:8.79029\tvalidation_1-rmse:8.80203\n",
      "[42]\tvalidation_0-rmse:8.46110\tvalidation_1-rmse:8.47361\n",
      "[43]\tvalidation_0-rmse:8.14615\tvalidation_1-rmse:8.15945\n",
      "[44]\tvalidation_0-rmse:7.84391\tvalidation_1-rmse:7.85808\n",
      "[45]\tvalidation_0-rmse:7.55439\tvalidation_1-rmse:7.56954\n",
      "[46]\tvalidation_0-rmse:7.27708\tvalidation_1-rmse:7.29330\n",
      "[47]\tvalidation_0-rmse:7.01161\tvalidation_1-rmse:7.02892\n",
      "[48]\tvalidation_0-rmse:6.75737\tvalidation_1-rmse:6.77597\n",
      "[49]\tvalidation_0-rmse:6.51393\tvalidation_1-rmse:6.53387\n",
      "[50]\tvalidation_0-rmse:6.28075\tvalidation_1-rmse:6.30218\n",
      "[51]\tvalidation_0-rmse:6.05781\tvalidation_1-rmse:6.08075\n",
      "[52]\tvalidation_0-rmse:5.84449\tvalidation_1-rmse:5.86908\n",
      "[53]\tvalidation_0-rmse:5.64006\tvalidation_1-rmse:5.66650\n",
      "[54]\tvalidation_0-rmse:5.44471\tvalidation_1-rmse:5.47307\n",
      "[55]\tvalidation_0-rmse:5.25832\tvalidation_1-rmse:5.28872\n",
      "[56]\tvalidation_0-rmse:5.07993\tvalidation_1-rmse:5.11260\n",
      "[57]\tvalidation_0-rmse:4.90981\tvalidation_1-rmse:4.94506\n",
      "[58]\tvalidation_0-rmse:4.74705\tvalidation_1-rmse:4.78491\n",
      "[59]\tvalidation_0-rmse:4.59150\tvalidation_1-rmse:4.63230\n",
      "[60]\tvalidation_0-rmse:4.44292\tvalidation_1-rmse:4.48685\n",
      "[61]\tvalidation_0-rmse:4.30121\tvalidation_1-rmse:4.34843\n",
      "[62]\tvalidation_0-rmse:4.16592\tvalidation_1-rmse:4.21668\n",
      "[63]\tvalidation_0-rmse:4.03701\tvalidation_1-rmse:4.09161\n",
      "[64]\tvalidation_0-rmse:3.91402\tvalidation_1-rmse:3.97273\n",
      "[65]\tvalidation_0-rmse:3.79671\tvalidation_1-rmse:3.85970\n",
      "[66]\tvalidation_0-rmse:3.68503\tvalidation_1-rmse:3.75255\n",
      "[67]\tvalidation_0-rmse:3.57839\tvalidation_1-rmse:3.65092\n",
      "[68]\tvalidation_0-rmse:3.47681\tvalidation_1-rmse:3.55463\n",
      "[69]\tvalidation_0-rmse:3.38025\tvalidation_1-rmse:3.46345\n",
      "[70]\tvalidation_0-rmse:3.28819\tvalidation_1-rmse:3.37721\n",
      "[71]\tvalidation_0-rmse:3.20025\tvalidation_1-rmse:3.29554\n",
      "[72]\tvalidation_0-rmse:3.11686\tvalidation_1-rmse:3.21870\n",
      "[73]\tvalidation_0-rmse:3.03747\tvalidation_1-rmse:3.14639\n",
      "[74]\tvalidation_0-rmse:2.96182\tvalidation_1-rmse:3.07815\n",
      "[75]\tvalidation_0-rmse:2.88964\tvalidation_1-rmse:3.01379\n",
      "[76]\tvalidation_0-rmse:2.82087\tvalidation_1-rmse:2.95334\n",
      "[77]\tvalidation_0-rmse:2.75541\tvalidation_1-rmse:2.89682\n",
      "[78]\tvalidation_0-rmse:2.69320\tvalidation_1-rmse:2.84348\n",
      "[79]\tvalidation_0-rmse:2.63413\tvalidation_1-rmse:2.79341\n",
      "[80]\tvalidation_0-rmse:2.57753\tvalidation_1-rmse:2.74667\n",
      "[81]\tvalidation_0-rmse:2.52362\tvalidation_1-rmse:2.70296\n",
      "[82]\tvalidation_0-rmse:2.47225\tvalidation_1-rmse:2.66221\n",
      "[83]\tvalidation_0-rmse:2.42329\tvalidation_1-rmse:2.62449\n",
      "[84]\tvalidation_0-rmse:2.37629\tvalidation_1-rmse:2.58915\n",
      "[85]\tvalidation_0-rmse:2.33207\tvalidation_1-rmse:2.55628\n",
      "[86]\tvalidation_0-rmse:2.28984\tvalidation_1-rmse:2.52588\n",
      "[87]\tvalidation_0-rmse:2.24973\tvalidation_1-rmse:2.49771\n",
      "[88]\tvalidation_0-rmse:2.21140\tvalidation_1-rmse:2.47161\n",
      "[89]\tvalidation_0-rmse:2.17477\tvalidation_1-rmse:2.44773\n",
      "[90]\tvalidation_0-rmse:2.13993\tvalidation_1-rmse:2.42560\n",
      "[91]\tvalidation_0-rmse:2.10661\tvalidation_1-rmse:2.40512\n",
      "[92]\tvalidation_0-rmse:2.07495\tvalidation_1-rmse:2.38618\n",
      "[93]\tvalidation_0-rmse:2.04489\tvalidation_1-rmse:2.36902\n",
      "[94]\tvalidation_0-rmse:2.01627\tvalidation_1-rmse:2.35322\n",
      "[95]\tvalidation_0-rmse:1.98893\tvalidation_1-rmse:2.33859\n",
      "[96]\tvalidation_0-rmse:1.96277\tvalidation_1-rmse:2.32555\n",
      "[97]\tvalidation_0-rmse:1.93780\tvalidation_1-rmse:2.31344\n",
      "[98]\tvalidation_0-rmse:1.91395\tvalidation_1-rmse:2.30263\n",
      "[99]\tvalidation_0-rmse:1.89138\tvalidation_1-rmse:2.29275\n",
      "[100]\tvalidation_0-rmse:1.86975\tvalidation_1-rmse:2.28398\n",
      "[101]\tvalidation_0-rmse:1.84907\tvalidation_1-rmse:2.27597\n",
      "[102]\tvalidation_0-rmse:1.82933\tvalidation_1-rmse:2.26872\n",
      "[103]\tvalidation_0-rmse:1.81043\tvalidation_1-rmse:2.26240\n",
      "[104]\tvalidation_0-rmse:1.79233\tvalidation_1-rmse:2.25662\n",
      "[105]\tvalidation_0-rmse:1.77520\tvalidation_1-rmse:2.25154\n",
      "[106]\tvalidation_0-rmse:1.75845\tvalidation_1-rmse:2.24728\n",
      "[107]\tvalidation_0-rmse:1.74259\tvalidation_1-rmse:2.24336\n",
      "[108]\tvalidation_0-rmse:1.72727\tvalidation_1-rmse:2.24016\n",
      "[109]\tvalidation_0-rmse:1.71271\tvalidation_1-rmse:2.23743\n",
      "[110]\tvalidation_0-rmse:1.69867\tvalidation_1-rmse:2.23513\n",
      "[111]\tvalidation_0-rmse:1.68530\tvalidation_1-rmse:2.23328\n",
      "[112]\tvalidation_0-rmse:1.67228\tvalidation_1-rmse:2.23190\n",
      "[113]\tvalidation_0-rmse:1.65986\tvalidation_1-rmse:2.23073\n",
      "[114]\tvalidation_0-rmse:1.64773\tvalidation_1-rmse:2.23001\n",
      "[115]\tvalidation_0-rmse:1.63609\tvalidation_1-rmse:2.22958\n",
      "[116]\tvalidation_0-rmse:1.62503\tvalidation_1-rmse:2.22934\n",
      "[117]\tvalidation_0-rmse:1.61421\tvalidation_1-rmse:2.22938\n",
      "[118]\tvalidation_0-rmse:1.60376\tvalidation_1-rmse:2.22973\n",
      "[119]\tvalidation_0-rmse:1.59381\tvalidation_1-rmse:2.23005\n",
      "[120]\tvalidation_0-rmse:1.58412\tvalidation_1-rmse:2.23052\n"
     ]
    },
    {
     "data": {
      "text/plain": [
       "XGBRegressor(base_score=0.5, booster='gbtree', colsample_bylevel=1,\n",
       "             colsample_bynode=1, colsample_bytree=1, gamma=0, gpu_id=-1,\n",
       "             importance_type='gain', interaction_constraints='',\n",
       "             learning_rate=0.04, max_delta_step=0, max_depth=80,\n",
       "             min_child_weight=1, missing=nan, monotone_constraints='()',\n",
       "             n_estimators=472, n_jobs=-1, num_parallel_tree=1, random_state=42,\n",
       "             reg_alpha=0, reg_lambda=1, scale_pos_weight=1, subsample=0.5,\n",
       "             tree_method='exact', validate_parameters=1, verbosity=0)"
      ]
     },
     "execution_count": 173,
     "metadata": {},
     "output_type": "execute_result"
    }
   ],
   "source": [
    "modelo_H2.fit(X_train, y_train, eval_set=[(X_train, y_train), (X_test, y_test)], early_stopping_rounds=5)"
   ]
  },
  {
   "cell_type": "code",
   "execution_count": 174,
   "id": "2bda9bb6",
   "metadata": {
    "scrolled": false
   },
   "outputs": [
    {
     "data": {
      "text/plain": [
       "<AxesSubplot:title={'center':'Feature importance'}, xlabel='F score', ylabel='Features'>"
      ]
     },
     "execution_count": 174,
     "metadata": {},
     "output_type": "execute_result"
    },
    {
     "data": {
      "image/png": "[encoded data removed]",
      "text/plain": [
       "<Figure size 432x288 with 1 Axes>"
      ]
     },
     "metadata": {
      "needs_background": "light"
     },
     "output_type": "display_data"
    }
   ],
   "source": [
    "xgb.plot_importance(modelo_H2)"
   ]
  },
  {
   "cell_type": "code",
   "execution_count": 179,
   "id": "81efda6e",
   "metadata": {},
   "outputs": [
    {
     "data": {
      "text/html": [
       "<div>\n",
       "<style scoped>\n",
       "    .dataframe tbody tr th:only-of-type {\n",
       "        vertical-align: middle;\n",
       "    }\n",
       "\n",
       "    .dataframe tbody tr th {\n",
       "        vertical-align: top;\n",
       "    }\n",
       "\n",
       "    .dataframe thead th {\n",
       "        text-align: right;\n",
       "    }\n",
       "</style>\n",
       "<table border=\"1\" class=\"dataframe\">\n",
       "  <thead>\n",
       "    <tr style=\"text-align: right;\">\n",
       "      <th></th>\n",
       "      <th>IDENTIFICACION</th>\n",
       "      <th>EDAD_MESES</th>\n",
       "      <th>EDAD_AÑOS</th>\n",
       "      <th>id_limp</th>\n",
       "      <th>tipoID</th>\n",
       "      <th>longitud</th>\n",
       "      <th>num_ini</th>\n",
       "      <th>cat_id</th>\n",
       "    </tr>\n",
       "  </thead>\n",
       "  <tbody>\n",
       "    <tr>\n",
       "      <th>2267044</th>\n",
       "      <td>83086033</td>\n",
       "      <td>773.903</td>\n",
       "      <td>64.492</td>\n",
       "      <td>83086033</td>\n",
       "      <td>cedula</td>\n",
       "      <td>8</td>\n",
       "      <td>830</td>\n",
       "      <td>H2</td>\n",
       "    </tr>\n",
       "    <tr>\n",
       "      <th>4791815</th>\n",
       "      <td>87061159</td>\n",
       "      <td>494.677</td>\n",
       "      <td>41.223</td>\n",
       "      <td>87061159</td>\n",
       "      <td>cedula</td>\n",
       "      <td>8</td>\n",
       "      <td>870</td>\n",
       "      <td>H2</td>\n",
       "    </tr>\n",
       "    <tr>\n",
       "      <th>1880248</th>\n",
       "      <td>80137400</td>\n",
       "      <td>471.903</td>\n",
       "      <td>39.325</td>\n",
       "      <td>80137400</td>\n",
       "      <td>cedula</td>\n",
       "      <td>8</td>\n",
       "      <td>801</td>\n",
       "      <td>H2</td>\n",
       "    </tr>\n",
       "    <tr>\n",
       "      <th>256040</th>\n",
       "      <td>80108780</td>\n",
       "      <td>480.097</td>\n",
       "      <td>40.008</td>\n",
       "      <td>80108780</td>\n",
       "      <td>cedula</td>\n",
       "      <td>8</td>\n",
       "      <td>801</td>\n",
       "      <td>H2</td>\n",
       "    </tr>\n",
       "    <tr>\n",
       "      <th>2223172</th>\n",
       "      <td>70098590</td>\n",
       "      <td>769.903</td>\n",
       "      <td>64.159</td>\n",
       "      <td>70098590</td>\n",
       "      <td>cedula</td>\n",
       "      <td>8</td>\n",
       "      <td>700</td>\n",
       "      <td>H2</td>\n",
       "    </tr>\n",
       "    <tr>\n",
       "      <th>3635034</th>\n",
       "      <td>98553725</td>\n",
       "      <td>608.419</td>\n",
       "      <td>50.702</td>\n",
       "      <td>98553725</td>\n",
       "      <td>cedula</td>\n",
       "      <td>8</td>\n",
       "      <td>985</td>\n",
       "      <td>H2</td>\n",
       "    </tr>\n",
       "    <tr>\n",
       "      <th>1437212</th>\n",
       "      <td>74380261</td>\n",
       "      <td>447.129</td>\n",
       "      <td>37.261</td>\n",
       "      <td>74380261</td>\n",
       "      <td>cedula</td>\n",
       "      <td>8</td>\n",
       "      <td>743</td>\n",
       "      <td>H2</td>\n",
       "    </tr>\n",
       "    <tr>\n",
       "      <th>2667069</th>\n",
       "      <td>7570840.000</td>\n",
       "      <td>465.258</td>\n",
       "      <td>38.772</td>\n",
       "      <td>75708400</td>\n",
       "      <td>cedula</td>\n",
       "      <td>8</td>\n",
       "      <td>757</td>\n",
       "      <td>H2</td>\n",
       "    </tr>\n",
       "    <tr>\n",
       "      <th>2517845</th>\n",
       "      <td>93116689</td>\n",
       "      <td>793.774</td>\n",
       "      <td>66.148</td>\n",
       "      <td>93116689</td>\n",
       "      <td>cedula</td>\n",
       "      <td>8</td>\n",
       "      <td>931</td>\n",
       "      <td>H2</td>\n",
       "    </tr>\n",
       "    <tr>\n",
       "      <th>5035878</th>\n",
       "      <td>80471492</td>\n",
       "      <td>588.710</td>\n",
       "      <td>49.059</td>\n",
       "      <td>80471492</td>\n",
       "      <td>cedula</td>\n",
       "      <td>8</td>\n",
       "      <td>804</td>\n",
       "      <td>H2</td>\n",
       "    </tr>\n",
       "  </tbody>\n",
       "</table>\n",
       "</div>"
      ],
      "text/plain": [
       "        IDENTIFICACION  EDAD_MESES  EDAD_AÑOS   id_limp  tipoID  longitud  \\\n",
       "2267044       83086033     773.903     64.492  83086033  cedula         8   \n",
       "4791815       87061159     494.677     41.223  87061159  cedula         8   \n",
       "1880248       80137400     471.903     39.325  80137400  cedula         8   \n",
       "256040        80108780     480.097     40.008  80108780  cedula         8   \n",
       "2223172       70098590     769.903     64.159  70098590  cedula         8   \n",
       "3635034       98553725     608.419     50.702  98553725  cedula         8   \n",
       "1437212       74380261     447.129     37.261  74380261  cedula         8   \n",
       "2667069    7570840.000     465.258     38.772  75708400  cedula         8   \n",
       "2517845       93116689     793.774     66.148  93116689  cedula         8   \n",
       "5035878       80471492     588.710     49.059  80471492  cedula         8   \n",
       "\n",
       "         num_ini cat_id  \n",
       "2267044      830     H2  \n",
       "4791815      870     H2  \n",
       "1880248      801     H2  \n",
       "256040       801     H2  \n",
       "2223172      700     H2  \n",
       "3635034      985     H2  \n",
       "1437212      743     H2  \n",
       "2667069      757     H2  \n",
       "2517845      931     H2  \n",
       "5035878      804     H2  "
      ]
     },
     "execution_count": 179,
     "metadata": {},
     "output_type": "execute_result"
    }
   ],
   "source": [
    "df_H2.sample(10)"
   ]
  },
  {
   "cell_type": "code",
   "execution_count": 182,
   "id": "3ee21ffa",
   "metadata": {},
   "outputs": [],
   "source": [
    "data = {'id_limp': [83086033,74380261,93116689,80471492], 'longitud': [8,8,8,8], 'num_ini':[830,743,931,804]}\n",
    "data =pd.DataFrame(data)"
   ]
  },
  {
   "cell_type": "code",
   "execution_count": 183,
   "id": "842d8f87",
   "metadata": {},
   "outputs": [
    {
     "data": {
      "text/plain": [
       "array([61.518417, 37.051365, 63.710423, 47.957462], dtype=float32)"
      ]
     },
     "execution_count": 183,
     "metadata": {},
     "output_type": "execute_result"
    }
   ],
   "source": [
    "modelo_H2.predict(data)"
   ]
  },
  {
   "cell_type": "code",
   "execution_count": 184,
   "id": "16608184",
   "metadata": {},
   "outputs": [
    {
     "data": {
      "text/plain": [
       "['modeloXGB_H2.pkl']"
      ]
     },
     "execution_count": 184,
     "metadata": {},
     "output_type": "execute_result"
    }
   ],
   "source": [
    "dump(modelo_H2,'modeloXGB_H2.pkl')"
   ]
  },
  {
   "cell_type": "code",
   "execution_count": 185,
   "id": "8a6104ae",
   "metadata": {},
   "outputs": [
    {
     "data": {
      "text/plain": [
       "281"
      ]
     },
     "execution_count": 185,
     "metadata": {},
     "output_type": "execute_result"
    }
   ],
   "source": [
    "del df_H2\n",
    "gc.collect()"
   ]
  },
  {
   "cell_type": "markdown",
   "id": "a2203093",
   "metadata": {},
   "source": [
    "### Modelo M1"
   ]
  },
  {
   "cell_type": "code",
   "execution_count": 188,
   "id": "e80844e7",
   "metadata": {},
   "outputs": [],
   "source": [
    "Xvar=df_M1[['id_limp','longitud','num_ini']]\n",
    "yvar=df_M1['EDAD_AÑOS']"
   ]
  },
  {
   "cell_type": "code",
   "execution_count": 189,
   "id": "bc8881f6",
   "metadata": {},
   "outputs": [],
   "source": [
    "X_train, X_test, y_train, y_test = train_test_split(Xvar, yvar, test_size = 0.3, random_state = 86, shuffle= True)"
   ]
  },
  {
   "cell_type": "code",
   "execution_count": 190,
   "id": "9493eef7",
   "metadata": {},
   "outputs": [],
   "source": [
    "modelo_M1=xgb.XGBRegressor(max_depth=80, verbosity= 0, subsample=0.5,  n_estimators=472, n_jobs=-1, objective='reg:squarederror', booster='gbtree', random_state=42, learning_rate=0.04, reg_lambda=1)"
   ]
  },
  {
   "cell_type": "code",
   "execution_count": 191,
   "id": "44ae7d76",
   "metadata": {
    "scrolled": true
   },
   "outputs": [
    {
     "name": "stdout",
     "output_type": "stream",
     "text": [
      "[0]\tvalidation_0-rmse:50.07126\tvalidation_1-rmse:50.08179\n",
      "[1]\tvalidation_0-rmse:48.09192\tvalidation_1-rmse:48.10224\n",
      "[2]\tvalidation_0-rmse:46.19236\tvalidation_1-rmse:46.20267\n",
      "[3]\tvalidation_0-rmse:44.36908\tvalidation_1-rmse:44.37969\n",
      "[4]\tvalidation_0-rmse:42.61877\tvalidation_1-rmse:42.62929\n",
      "[5]\tvalidation_0-rmse:40.93866\tvalidation_1-rmse:40.94927\n",
      "[6]\tvalidation_0-rmse:39.32583\tvalidation_1-rmse:39.33654\n",
      "[7]\tvalidation_0-rmse:37.77771\tvalidation_1-rmse:37.78867\n",
      "[8]\tvalidation_0-rmse:36.29172\tvalidation_1-rmse:36.30284\n",
      "[9]\tvalidation_0-rmse:34.86529\tvalidation_1-rmse:34.87659\n",
      "[10]\tvalidation_0-rmse:33.49625\tvalidation_1-rmse:33.50794\n",
      "[11]\tvalidation_0-rmse:32.18214\tvalidation_1-rmse:32.19419\n",
      "[12]\tvalidation_0-rmse:30.92076\tvalidation_1-rmse:30.93307\n",
      "[13]\tvalidation_0-rmse:29.71006\tvalidation_1-rmse:29.72271\n",
      "[14]\tvalidation_0-rmse:28.54822\tvalidation_1-rmse:28.56158\n",
      "[15]\tvalidation_0-rmse:27.43304\tvalidation_1-rmse:27.44694\n",
      "[16]\tvalidation_0-rmse:26.36316\tvalidation_1-rmse:26.37779\n",
      "[17]\tvalidation_0-rmse:25.33558\tvalidation_1-rmse:25.35088\n",
      "[18]\tvalidation_0-rmse:24.34977\tvalidation_1-rmse:24.36566\n",
      "[19]\tvalidation_0-rmse:23.40340\tvalidation_1-rmse:23.42012\n",
      "[20]\tvalidation_0-rmse:22.49545\tvalidation_1-rmse:22.51294\n",
      "[21]\tvalidation_0-rmse:21.62423\tvalidation_1-rmse:21.64244\n",
      "[22]\tvalidation_0-rmse:20.78853\tvalidation_1-rmse:20.80770\n",
      "[23]\tvalidation_0-rmse:19.98621\tvalidation_1-rmse:20.00640\n",
      "[24]\tvalidation_0-rmse:19.21621\tvalidation_1-rmse:19.23751\n",
      "[25]\tvalidation_0-rmse:18.47762\tvalidation_1-rmse:18.50024\n",
      "[26]\tvalidation_0-rmse:17.76903\tvalidation_1-rmse:17.79293\n",
      "[27]\tvalidation_0-rmse:17.08953\tvalidation_1-rmse:17.11467\n",
      "[28]\tvalidation_0-rmse:16.43741\tvalidation_1-rmse:16.46404\n",
      "[29]\tvalidation_0-rmse:15.81190\tvalidation_1-rmse:15.84007\n",
      "[30]\tvalidation_0-rmse:15.21176\tvalidation_1-rmse:15.24176\n",
      "[31]\tvalidation_0-rmse:14.63629\tvalidation_1-rmse:14.66809\n",
      "[32]\tvalidation_0-rmse:14.08452\tvalidation_1-rmse:14.11827\n",
      "[33]\tvalidation_0-rmse:13.55546\tvalidation_1-rmse:13.59135\n",
      "[34]\tvalidation_0-rmse:13.04852\tvalidation_1-rmse:13.08657\n",
      "[35]\tvalidation_0-rmse:12.56248\tvalidation_1-rmse:12.60308\n",
      "[36]\tvalidation_0-rmse:12.09622\tvalidation_1-rmse:12.13911\n",
      "[37]\tvalidation_0-rmse:11.64930\tvalidation_1-rmse:11.69479\n",
      "[38]\tvalidation_0-rmse:11.22139\tvalidation_1-rmse:11.26944\n",
      "[39]\tvalidation_0-rmse:10.81119\tvalidation_1-rmse:10.86217\n",
      "[40]\tvalidation_0-rmse:10.41795\tvalidation_1-rmse:10.47217\n",
      "[41]\tvalidation_0-rmse:10.04154\tvalidation_1-rmse:10.09905\n",
      "[42]\tvalidation_0-rmse:9.68062\tvalidation_1-rmse:9.74154\n",
      "[43]\tvalidation_0-rmse:9.33549\tvalidation_1-rmse:9.40005\n",
      "[44]\tvalidation_0-rmse:9.00527\tvalidation_1-rmse:9.07367\n",
      "[45]\tvalidation_0-rmse:8.68869\tvalidation_1-rmse:8.76107\n",
      "[46]\tvalidation_0-rmse:8.38557\tvalidation_1-rmse:8.46210\n",
      "[47]\tvalidation_0-rmse:8.09580\tvalidation_1-rmse:8.17697\n",
      "[48]\tvalidation_0-rmse:7.81873\tvalidation_1-rmse:7.90461\n",
      "[49]\tvalidation_0-rmse:7.55366\tvalidation_1-rmse:7.64425\n",
      "[50]\tvalidation_0-rmse:7.30000\tvalidation_1-rmse:7.39584\n",
      "[51]\tvalidation_0-rmse:7.05770\tvalidation_1-rmse:7.15914\n",
      "[52]\tvalidation_0-rmse:6.82578\tvalidation_1-rmse:6.93302\n",
      "[53]\tvalidation_0-rmse:6.60418\tvalidation_1-rmse:6.71744\n",
      "[54]\tvalidation_0-rmse:6.39267\tvalidation_1-rmse:6.51253\n",
      "[55]\tvalidation_0-rmse:6.19077\tvalidation_1-rmse:6.31759\n",
      "[56]\tvalidation_0-rmse:5.99782\tvalidation_1-rmse:6.13179\n",
      "[57]\tvalidation_0-rmse:5.81372\tvalidation_1-rmse:5.95520\n",
      "[58]\tvalidation_0-rmse:5.63784\tvalidation_1-rmse:5.78742\n",
      "[59]\tvalidation_0-rmse:5.47033\tvalidation_1-rmse:5.62831\n",
      "[60]\tvalidation_0-rmse:5.31068\tvalidation_1-rmse:5.47735\n",
      "[61]\tvalidation_0-rmse:5.15821\tvalidation_1-rmse:5.33424\n",
      "[62]\tvalidation_0-rmse:5.01263\tvalidation_1-rmse:5.19839\n",
      "[63]\tvalidation_0-rmse:4.87388\tvalidation_1-rmse:5.06978\n",
      "[64]\tvalidation_0-rmse:4.74157\tvalidation_1-rmse:4.94804\n",
      "[65]\tvalidation_0-rmse:4.61571\tvalidation_1-rmse:4.83320\n",
      "[66]\tvalidation_0-rmse:4.49523\tvalidation_1-rmse:4.72478\n",
      "[67]\tvalidation_0-rmse:4.38057\tvalidation_1-rmse:4.62258\n",
      "[68]\tvalidation_0-rmse:4.27107\tvalidation_1-rmse:4.52589\n",
      "[69]\tvalidation_0-rmse:4.16681\tvalidation_1-rmse:4.43506\n",
      "[70]\tvalidation_0-rmse:4.06738\tvalidation_1-rmse:4.34946\n",
      "[71]\tvalidation_0-rmse:3.97240\tvalidation_1-rmse:4.26918\n",
      "[72]\tvalidation_0-rmse:3.88181\tvalidation_1-rmse:4.19359\n",
      "[73]\tvalidation_0-rmse:3.79511\tvalidation_1-rmse:4.12280\n",
      "[74]\tvalidation_0-rmse:3.71251\tvalidation_1-rmse:4.05692\n",
      "[75]\tvalidation_0-rmse:3.63364\tvalidation_1-rmse:3.99495\n",
      "[76]\tvalidation_0-rmse:3.55789\tvalidation_1-rmse:3.93680\n",
      "[77]\tvalidation_0-rmse:3.48548\tvalidation_1-rmse:3.88258\n",
      "[78]\tvalidation_0-rmse:3.41646\tvalidation_1-rmse:3.83214\n",
      "[79]\tvalidation_0-rmse:3.35050\tvalidation_1-rmse:3.78542\n",
      "[80]\tvalidation_0-rmse:3.28724\tvalidation_1-rmse:3.74181\n",
      "[81]\tvalidation_0-rmse:3.22682\tvalidation_1-rmse:3.70155\n",
      "[82]\tvalidation_0-rmse:3.16893\tvalidation_1-rmse:3.66416\n",
      "[83]\tvalidation_0-rmse:3.11350\tvalidation_1-rmse:3.62944\n",
      "[84]\tvalidation_0-rmse:3.06027\tvalidation_1-rmse:3.59710\n",
      "[85]\tvalidation_0-rmse:3.00947\tvalidation_1-rmse:3.56767\n",
      "[86]\tvalidation_0-rmse:2.96070\tvalidation_1-rmse:3.54020\n",
      "[87]\tvalidation_0-rmse:2.91410\tvalidation_1-rmse:3.51494\n",
      "[88]\tvalidation_0-rmse:2.86959\tvalidation_1-rmse:3.49167\n",
      "[89]\tvalidation_0-rmse:2.82672\tvalidation_1-rmse:3.46999\n",
      "[90]\tvalidation_0-rmse:2.78550\tvalidation_1-rmse:3.45048\n",
      "[91]\tvalidation_0-rmse:2.74599\tvalidation_1-rmse:3.43254\n",
      "[92]\tvalidation_0-rmse:2.70831\tvalidation_1-rmse:3.41599\n",
      "[93]\tvalidation_0-rmse:2.67193\tvalidation_1-rmse:3.40096\n",
      "[94]\tvalidation_0-rmse:2.63699\tvalidation_1-rmse:3.38745\n",
      "[95]\tvalidation_0-rmse:2.60307\tvalidation_1-rmse:3.37492\n",
      "[96]\tvalidation_0-rmse:2.57054\tvalidation_1-rmse:3.36357\n",
      "[97]\tvalidation_0-rmse:2.53926\tvalidation_1-rmse:3.35354\n",
      "[98]\tvalidation_0-rmse:2.50900\tvalidation_1-rmse:3.34432\n",
      "[99]\tvalidation_0-rmse:2.47980\tvalidation_1-rmse:3.33583\n",
      "[100]\tvalidation_0-rmse:2.45171\tvalidation_1-rmse:3.32841\n",
      "[101]\tvalidation_0-rmse:2.42450\tvalidation_1-rmse:3.32183\n",
      "[102]\tvalidation_0-rmse:2.39812\tvalidation_1-rmse:3.31609\n",
      "[103]\tvalidation_0-rmse:2.37264\tvalidation_1-rmse:3.31088\n",
      "[104]\tvalidation_0-rmse:2.34821\tvalidation_1-rmse:3.30647\n",
      "[105]\tvalidation_0-rmse:2.32436\tvalidation_1-rmse:3.30241\n",
      "[106]\tvalidation_0-rmse:2.30152\tvalidation_1-rmse:3.29894\n",
      "[107]\tvalidation_0-rmse:2.27899\tvalidation_1-rmse:3.29620\n",
      "[108]\tvalidation_0-rmse:2.25710\tvalidation_1-rmse:3.29374\n",
      "[109]\tvalidation_0-rmse:2.23616\tvalidation_1-rmse:3.29178\n",
      "[110]\tvalidation_0-rmse:2.21547\tvalidation_1-rmse:3.29037\n",
      "[111]\tvalidation_0-rmse:2.19541\tvalidation_1-rmse:3.28926\n",
      "[112]\tvalidation_0-rmse:2.17600\tvalidation_1-rmse:3.28841\n",
      "[113]\tvalidation_0-rmse:2.15699\tvalidation_1-rmse:3.28796\n",
      "[114]\tvalidation_0-rmse:2.13847\tvalidation_1-rmse:3.28801\n",
      "[115]\tvalidation_0-rmse:2.12053\tvalidation_1-rmse:3.28830\n",
      "[116]\tvalidation_0-rmse:2.10307\tvalidation_1-rmse:3.28865\n",
      "[117]\tvalidation_0-rmse:2.08609\tvalidation_1-rmse:3.28924\n"
     ]
    },
    {
     "data": {
      "text/plain": [
       "XGBRegressor(base_score=0.5, booster='gbtree', colsample_bylevel=1,\n",
       "             colsample_bynode=1, colsample_bytree=1, gamma=0, gpu_id=-1,\n",
       "             importance_type='gain', interaction_constraints='',\n",
       "             learning_rate=0.04, max_delta_step=0, max_depth=80,\n",
       "             min_child_weight=1, missing=nan, monotone_constraints='()',\n",
       "             n_estimators=472, n_jobs=-1, num_parallel_tree=1, random_state=42,\n",
       "             reg_alpha=0, reg_lambda=1, scale_pos_weight=1, subsample=0.5,\n",
       "             tree_method='exact', validate_parameters=1, verbosity=0)"
      ]
     },
     "execution_count": 191,
     "metadata": {},
     "output_type": "execute_result"
    }
   ],
   "source": [
    "modelo_M1.fit(X_train, y_train, eval_set=[(X_train, y_train), (X_test, y_test)], early_stopping_rounds=5)"
   ]
  },
  {
   "cell_type": "code",
   "execution_count": 193,
   "id": "0e28482c",
   "metadata": {},
   "outputs": [
    {
     "data": {
      "text/plain": [
       "<AxesSubplot:title={'center':'Feature importance'}, xlabel='F score', ylabel='Features'>"
      ]
     },
     "execution_count": 193,
     "metadata": {},
     "output_type": "execute_result"
    },
    {
     "data": {
      "image/png": "[encoded data removed]",
      "text/plain": [
       "<Figure size 432x288 with 1 Axes>"
      ]
     },
     "metadata": {
      "needs_background": "light"
     },
     "output_type": "display_data"
    }
   ],
   "source": [
    "xgb.plot_importance(modelo_M1)"
   ]
  },
  {
   "cell_type": "code",
   "execution_count": 194,
   "id": "e117b0f6",
   "metadata": {},
   "outputs": [
    {
     "data": {
      "text/html": [
       "<div>\n",
       "<style scoped>\n",
       "    .dataframe tbody tr th:only-of-type {\n",
       "        vertical-align: middle;\n",
       "    }\n",
       "\n",
       "    .dataframe tbody tr th {\n",
       "        vertical-align: top;\n",
       "    }\n",
       "\n",
       "    .dataframe thead th {\n",
       "        text-align: right;\n",
       "    }\n",
       "</style>\n",
       "<table border=\"1\" class=\"dataframe\">\n",
       "  <thead>\n",
       "    <tr style=\"text-align: right;\">\n",
       "      <th></th>\n",
       "      <th>IDENTIFICACION</th>\n",
       "      <th>EDAD_MESES</th>\n",
       "      <th>EDAD_AÑOS</th>\n",
       "      <th>id_limp</th>\n",
       "      <th>tipoID</th>\n",
       "      <th>longitud</th>\n",
       "      <th>num_ini</th>\n",
       "      <th>cat_id</th>\n",
       "    </tr>\n",
       "  </thead>\n",
       "  <tbody>\n",
       "    <tr>\n",
       "      <th>4017248</th>\n",
       "      <td>21167489</td>\n",
       "      <td>844.935</td>\n",
       "      <td>70.411</td>\n",
       "      <td>21167489</td>\n",
       "      <td>cedula</td>\n",
       "      <td>8</td>\n",
       "      <td>211</td>\n",
       "      <td>M1</td>\n",
       "    </tr>\n",
       "    <tr>\n",
       "      <th>4220309</th>\n",
       "      <td>29508951</td>\n",
       "      <td>460.935</td>\n",
       "      <td>38.411</td>\n",
       "      <td>29508951</td>\n",
       "      <td>cedula</td>\n",
       "      <td>8</td>\n",
       "      <td>295</td>\n",
       "      <td>M1</td>\n",
       "    </tr>\n",
       "    <tr>\n",
       "      <th>2876064</th>\n",
       "      <td>37259321</td>\n",
       "      <td>782.258</td>\n",
       "      <td>65.188</td>\n",
       "      <td>37259321</td>\n",
       "      <td>cedula</td>\n",
       "      <td>8</td>\n",
       "      <td>372</td>\n",
       "      <td>M1</td>\n",
       "    </tr>\n",
       "    <tr>\n",
       "      <th>3862317</th>\n",
       "      <td>28846178</td>\n",
       "      <td>614.065</td>\n",
       "      <td>51.172</td>\n",
       "      <td>28846178</td>\n",
       "      <td>cedula</td>\n",
       "      <td>8</td>\n",
       "      <td>288</td>\n",
       "      <td>M1</td>\n",
       "    </tr>\n",
       "    <tr>\n",
       "      <th>3450810</th>\n",
       "      <td>41050022</td>\n",
       "      <td>713.742</td>\n",
       "      <td>59.478</td>\n",
       "      <td>41050022</td>\n",
       "      <td>cedula</td>\n",
       "      <td>8</td>\n",
       "      <td>410</td>\n",
       "      <td>M1</td>\n",
       "    </tr>\n",
       "    <tr>\n",
       "      <th>2146974</th>\n",
       "      <td>55068543</td>\n",
       "      <td>465.032</td>\n",
       "      <td>38.753</td>\n",
       "      <td>55068543</td>\n",
       "      <td>cedula</td>\n",
       "      <td>8</td>\n",
       "      <td>550</td>\n",
       "      <td>M1</td>\n",
       "    </tr>\n",
       "    <tr>\n",
       "      <th>5437361</th>\n",
       "      <td>29567345</td>\n",
       "      <td>767.903</td>\n",
       "      <td>63.992</td>\n",
       "      <td>29567345</td>\n",
       "      <td>cedula</td>\n",
       "      <td>8</td>\n",
       "      <td>295</td>\n",
       "      <td>M1</td>\n",
       "    </tr>\n",
       "    <tr>\n",
       "      <th>2198308</th>\n",
       "      <td>66827909</td>\n",
       "      <td>839.806</td>\n",
       "      <td>69.984</td>\n",
       "      <td>66827909</td>\n",
       "      <td>cedula</td>\n",
       "      <td>8</td>\n",
       "      <td>668</td>\n",
       "      <td>M1</td>\n",
       "    </tr>\n",
       "    <tr>\n",
       "      <th>4357164</th>\n",
       "      <td>24335779</td>\n",
       "      <td>438.484</td>\n",
       "      <td>36.540</td>\n",
       "      <td>24335779</td>\n",
       "      <td>cedula</td>\n",
       "      <td>8</td>\n",
       "      <td>243</td>\n",
       "      <td>M1</td>\n",
       "    </tr>\n",
       "    <tr>\n",
       "      <th>2385113</th>\n",
       "      <td>40383658</td>\n",
       "      <td>634.161</td>\n",
       "      <td>52.847</td>\n",
       "      <td>40383658</td>\n",
       "      <td>cedula</td>\n",
       "      <td>8</td>\n",
       "      <td>403</td>\n",
       "      <td>M1</td>\n",
       "    </tr>\n",
       "  </tbody>\n",
       "</table>\n",
       "</div>"
      ],
      "text/plain": [
       "        IDENTIFICACION  EDAD_MESES  EDAD_AÑOS   id_limp  tipoID  longitud  \\\n",
       "4017248       21167489     844.935     70.411  21167489  cedula         8   \n",
       "4220309       29508951     460.935     38.411  29508951  cedula         8   \n",
       "2876064       37259321     782.258     65.188  37259321  cedula         8   \n",
       "3862317       28846178     614.065     51.172  28846178  cedula         8   \n",
       "3450810       41050022     713.742     59.478  41050022  cedula         8   \n",
       "2146974       55068543     465.032     38.753  55068543  cedula         8   \n",
       "5437361       29567345     767.903     63.992  29567345  cedula         8   \n",
       "2198308       66827909     839.806     69.984  66827909  cedula         8   \n",
       "4357164       24335779     438.484     36.540  24335779  cedula         8   \n",
       "2385113       40383658     634.161     52.847  40383658  cedula         8   \n",
       "\n",
       "         num_ini cat_id  \n",
       "4017248      211     M1  \n",
       "4220309      295     M1  \n",
       "2876064      372     M1  \n",
       "3862317      288     M1  \n",
       "3450810      410     M1  \n",
       "2146974      550     M1  \n",
       "5437361      295     M1  \n",
       "2198308      668     M1  \n",
       "4357164      243     M1  \n",
       "2385113      403     M1  "
      ]
     },
     "execution_count": 194,
     "metadata": {},
     "output_type": "execute_result"
    }
   ],
   "source": [
    "df_M1.sample(10)"
   ]
  },
  {
   "cell_type": "code",
   "execution_count": 195,
   "id": "7f58c980",
   "metadata": {},
   "outputs": [],
   "source": [
    "data = {'id_limp': [41734923,51693316], 'longitud': [8,8], 'num_ini':[417,516]}"
   ]
  },
  {
   "cell_type": "code",
   "execution_count": 196,
   "id": "420c4c17",
   "metadata": {},
   "outputs": [],
   "source": [
    "data =pd.DataFrame(data)"
   ]
  },
  {
   "cell_type": "code",
   "execution_count": 197,
   "id": "e93a4f7e",
   "metadata": {},
   "outputs": [
    {
     "data": {
      "text/plain": [
       "array([64.07916 , 58.543053], dtype=float32)"
      ]
     },
     "execution_count": 197,
     "metadata": {},
     "output_type": "execute_result"
    }
   ],
   "source": [
    "modelo_M1.predict(data)"
   ]
  },
  {
   "cell_type": "code",
   "execution_count": 198,
   "id": "0c007b96",
   "metadata": {},
   "outputs": [
    {
     "data": {
      "text/plain": [
       "['modeloXGB_M1.pkl']"
      ]
     },
     "execution_count": 198,
     "metadata": {},
     "output_type": "execute_result"
    }
   ],
   "source": [
    "dump(modelo_M1,'modeloXGB_M1.pkl')"
   ]
  },
  {
   "cell_type": "code",
   "execution_count": 199,
   "id": "12a24d0a",
   "metadata": {},
   "outputs": [
    {
     "data": {
      "text/plain": [
       "132"
      ]
     },
     "execution_count": 199,
     "metadata": {},
     "output_type": "execute_result"
    }
   ],
   "source": [
    "del df_M1\n",
    "gc.collect()"
   ]
  },
  {
   "cell_type": "markdown",
   "id": "ed53db3f",
   "metadata": {},
   "source": [
    "## Modelo act2004"
   ]
  },
  {
   "cell_type": "code",
   "execution_count": 202,
   "id": "dc91b4e2",
   "metadata": {},
   "outputs": [],
   "source": [
    "Xvar=df_act2004[['id_limp','longitud','num_ini']]\n",
    "yvar=df_act2004['EDAD_AÑOS']\n",
    "X_train, X_test, y_train, y_test = train_test_split(Xvar, yvar, test_size = 0.3, random_state = 86, shuffle= True)"
   ]
  },
  {
   "cell_type": "code",
   "execution_count": 203,
   "id": "e2d894b2",
   "metadata": {},
   "outputs": [
    {
     "name": "stdout",
     "output_type": "stream",
     "text": [
      "[0]\tvalidation_0-rmse:26.66780\tvalidation_1-rmse:26.66436\n",
      "[1]\tvalidation_0-rmse:25.61282\tvalidation_1-rmse:25.60927\n",
      "[2]\tvalidation_0-rmse:24.60017\tvalidation_1-rmse:24.59656\n",
      "[3]\tvalidation_0-rmse:23.62829\tvalidation_1-rmse:23.62464\n",
      "[4]\tvalidation_0-rmse:22.69574\tvalidation_1-rmse:22.69198\n",
      "[5]\tvalidation_0-rmse:21.80072\tvalidation_1-rmse:21.79707\n",
      "[6]\tvalidation_0-rmse:20.94183\tvalidation_1-rmse:20.93817\n",
      "[7]\tvalidation_0-rmse:20.11771\tvalidation_1-rmse:20.11404\n",
      "[8]\tvalidation_0-rmse:19.32672\tvalidation_1-rmse:19.32297\n",
      "[9]\tvalidation_0-rmse:18.56760\tvalidation_1-rmse:18.56403\n",
      "[10]\tvalidation_0-rmse:17.83897\tvalidation_1-rmse:17.83556\n",
      "[11]\tvalidation_0-rmse:17.14016\tvalidation_1-rmse:17.13687\n",
      "[12]\tvalidation_0-rmse:16.46970\tvalidation_1-rmse:16.46650\n",
      "[13]\tvalidation_0-rmse:15.82594\tvalidation_1-rmse:15.82288\n",
      "[14]\tvalidation_0-rmse:15.20854\tvalidation_1-rmse:15.20557\n",
      "[15]\tvalidation_0-rmse:14.61640\tvalidation_1-rmse:14.61356\n",
      "[16]\tvalidation_0-rmse:14.04838\tvalidation_1-rmse:14.04572\n",
      "[17]\tvalidation_0-rmse:13.50345\tvalidation_1-rmse:13.50099\n",
      "[18]\tvalidation_0-rmse:12.98069\tvalidation_1-rmse:12.97837\n",
      "[19]\tvalidation_0-rmse:12.47900\tvalidation_1-rmse:12.47697\n",
      "[20]\tvalidation_0-rmse:11.99827\tvalidation_1-rmse:11.99641\n",
      "[21]\tvalidation_0-rmse:11.53706\tvalidation_1-rmse:11.53552\n",
      "[22]\tvalidation_0-rmse:11.09466\tvalidation_1-rmse:11.09345\n",
      "[23]\tvalidation_0-rmse:10.67038\tvalidation_1-rmse:10.66953\n",
      "[24]\tvalidation_0-rmse:10.26379\tvalidation_1-rmse:10.26332\n",
      "[25]\tvalidation_0-rmse:9.87246\tvalidation_1-rmse:9.87251\n",
      "[26]\tvalidation_0-rmse:9.49827\tvalidation_1-rmse:9.49883\n",
      "[27]\tvalidation_0-rmse:9.13992\tvalidation_1-rmse:9.14105\n",
      "[28]\tvalidation_0-rmse:8.79668\tvalidation_1-rmse:8.79834\n",
      "[29]\tvalidation_0-rmse:8.46550\tvalidation_1-rmse:8.46797\n",
      "[30]\tvalidation_0-rmse:8.15040\tvalidation_1-rmse:8.15356\n",
      "[31]\tvalidation_0-rmse:7.84619\tvalidation_1-rmse:7.85032\n",
      "[32]\tvalidation_0-rmse:7.55473\tvalidation_1-rmse:7.55980\n",
      "[33]\tvalidation_0-rmse:7.27566\tvalidation_1-rmse:7.28172\n",
      "[34]\tvalidation_0-rmse:7.00802\tvalidation_1-rmse:7.01532\n",
      "[35]\tvalidation_0-rmse:6.75184\tvalidation_1-rmse:6.76040\n",
      "[36]\tvalidation_0-rmse:6.50662\tvalidation_1-rmse:6.51669\n",
      "[37]\tvalidation_0-rmse:6.27162\tvalidation_1-rmse:6.28323\n",
      "[38]\tvalidation_0-rmse:6.04683\tvalidation_1-rmse:6.06008\n",
      "[39]\tvalidation_0-rmse:5.83175\tvalidation_1-rmse:5.84677\n",
      "[40]\tvalidation_0-rmse:5.62603\tvalidation_1-rmse:5.64305\n",
      "[41]\tvalidation_0-rmse:5.42924\tvalidation_1-rmse:5.44823\n",
      "[42]\tvalidation_0-rmse:5.24088\tvalidation_1-rmse:5.26216\n",
      "[43]\tvalidation_0-rmse:5.06058\tvalidation_1-rmse:5.08423\n",
      "[44]\tvalidation_0-rmse:4.88849\tvalidation_1-rmse:4.91480\n",
      "[45]\tvalidation_0-rmse:4.72406\tvalidation_1-rmse:4.75312\n",
      "[46]\tvalidation_0-rmse:4.56665\tvalidation_1-rmse:4.59876\n",
      "[47]\tvalidation_0-rmse:4.41642\tvalidation_1-rmse:4.45167\n",
      "[48]\tvalidation_0-rmse:4.27310\tvalidation_1-rmse:4.31168\n",
      "[49]\tvalidation_0-rmse:4.13624\tvalidation_1-rmse:4.17837\n",
      "[50]\tvalidation_0-rmse:4.00562\tvalidation_1-rmse:4.05151\n",
      "[51]\tvalidation_0-rmse:3.88104\tvalidation_1-rmse:3.93098\n",
      "[52]\tvalidation_0-rmse:3.76221\tvalidation_1-rmse:3.81637\n",
      "[53]\tvalidation_0-rmse:3.64922\tvalidation_1-rmse:3.70792\n",
      "[54]\tvalidation_0-rmse:3.54147\tvalidation_1-rmse:3.60470\n",
      "[55]\tvalidation_0-rmse:3.43878\tvalidation_1-rmse:3.50685\n",
      "[56]\tvalidation_0-rmse:3.34101\tvalidation_1-rmse:3.41416\n",
      "[57]\tvalidation_0-rmse:3.24806\tvalidation_1-rmse:3.32657\n",
      "[58]\tvalidation_0-rmse:3.15970\tvalidation_1-rmse:3.24364\n",
      "[59]\tvalidation_0-rmse:3.07560\tvalidation_1-rmse:3.16514\n",
      "[60]\tvalidation_0-rmse:2.99572\tvalidation_1-rmse:3.09108\n",
      "[61]\tvalidation_0-rmse:2.91994\tvalidation_1-rmse:3.02122\n",
      "[62]\tvalidation_0-rmse:2.84813\tvalidation_1-rmse:2.95545\n",
      "[63]\tvalidation_0-rmse:2.77972\tvalidation_1-rmse:2.89338\n",
      "[64]\tvalidation_0-rmse:2.71481\tvalidation_1-rmse:2.83500\n",
      "[65]\tvalidation_0-rmse:2.65332\tvalidation_1-rmse:2.78000\n",
      "[66]\tvalidation_0-rmse:2.59511\tvalidation_1-rmse:2.72847\n",
      "[67]\tvalidation_0-rmse:2.53999\tvalidation_1-rmse:2.68017\n",
      "[68]\tvalidation_0-rmse:2.48773\tvalidation_1-rmse:2.63488\n",
      "[69]\tvalidation_0-rmse:2.43838\tvalidation_1-rmse:2.59246\n",
      "[70]\tvalidation_0-rmse:2.39164\tvalidation_1-rmse:2.55277\n",
      "[71]\tvalidation_0-rmse:2.34788\tvalidation_1-rmse:2.51573\n",
      "[72]\tvalidation_0-rmse:2.30618\tvalidation_1-rmse:2.48106\n",
      "[73]\tvalidation_0-rmse:2.26668\tvalidation_1-rmse:2.44888\n",
      "[74]\tvalidation_0-rmse:2.22940\tvalidation_1-rmse:2.41888\n",
      "[75]\tvalidation_0-rmse:2.19427\tvalidation_1-rmse:2.39119\n",
      "[76]\tvalidation_0-rmse:2.16141\tvalidation_1-rmse:2.36517\n",
      "[77]\tvalidation_0-rmse:2.13029\tvalidation_1-rmse:2.34114\n",
      "[78]\tvalidation_0-rmse:2.10125\tvalidation_1-rmse:2.31862\n",
      "[79]\tvalidation_0-rmse:2.07348\tvalidation_1-rmse:2.29801\n",
      "[80]\tvalidation_0-rmse:2.04735\tvalidation_1-rmse:2.27892\n",
      "[81]\tvalidation_0-rmse:2.02266\tvalidation_1-rmse:2.26134\n",
      "[82]\tvalidation_0-rmse:1.99953\tvalidation_1-rmse:2.24507\n",
      "[83]\tvalidation_0-rmse:1.97815\tvalidation_1-rmse:2.22959\n",
      "[84]\tvalidation_0-rmse:1.95780\tvalidation_1-rmse:2.21552\n",
      "[85]\tvalidation_0-rmse:1.93851\tvalidation_1-rmse:2.20296\n",
      "[86]\tvalidation_0-rmse:1.92034\tvalidation_1-rmse:2.19138\n",
      "[87]\tvalidation_0-rmse:1.90335\tvalidation_1-rmse:2.18077\n",
      "[88]\tvalidation_0-rmse:1.88736\tvalidation_1-rmse:2.17109\n",
      "[89]\tvalidation_0-rmse:1.87240\tvalidation_1-rmse:2.16214\n",
      "[90]\tvalidation_0-rmse:1.85812\tvalidation_1-rmse:2.15412\n",
      "[91]\tvalidation_0-rmse:1.84480\tvalidation_1-rmse:2.14689\n",
      "[92]\tvalidation_0-rmse:1.83224\tvalidation_1-rmse:2.14027\n",
      "[93]\tvalidation_0-rmse:1.82061\tvalidation_1-rmse:2.13411\n",
      "[94]\tvalidation_0-rmse:1.80950\tvalidation_1-rmse:2.12870\n",
      "[95]\tvalidation_0-rmse:1.79926\tvalidation_1-rmse:2.12376\n",
      "[96]\tvalidation_0-rmse:1.78942\tvalidation_1-rmse:2.11949\n",
      "[97]\tvalidation_0-rmse:1.78037\tvalidation_1-rmse:2.11542\n",
      "[98]\tvalidation_0-rmse:1.77183\tvalidation_1-rmse:2.11187\n",
      "[99]\tvalidation_0-rmse:1.76374\tvalidation_1-rmse:2.10890\n",
      "[100]\tvalidation_0-rmse:1.75623\tvalidation_1-rmse:2.10623\n",
      "[101]\tvalidation_0-rmse:1.74933\tvalidation_1-rmse:2.10346\n",
      "[102]\tvalidation_0-rmse:1.74270\tvalidation_1-rmse:2.10122\n",
      "[103]\tvalidation_0-rmse:1.73638\tvalidation_1-rmse:2.09943\n",
      "[104]\tvalidation_0-rmse:1.73044\tvalidation_1-rmse:2.09785\n",
      "[105]\tvalidation_0-rmse:1.72488\tvalidation_1-rmse:2.09652\n",
      "[106]\tvalidation_0-rmse:1.71984\tvalidation_1-rmse:2.09539\n",
      "[107]\tvalidation_0-rmse:1.71494\tvalidation_1-rmse:2.09443\n",
      "[108]\tvalidation_0-rmse:1.71029\tvalidation_1-rmse:2.09374\n",
      "[109]\tvalidation_0-rmse:1.70614\tvalidation_1-rmse:2.09291\n",
      "[110]\tvalidation_0-rmse:1.70191\tvalidation_1-rmse:2.09264\n",
      "[111]\tvalidation_0-rmse:1.69795\tvalidation_1-rmse:2.09252\n",
      "[112]\tvalidation_0-rmse:1.69425\tvalidation_1-rmse:2.09247\n",
      "[113]\tvalidation_0-rmse:1.69075\tvalidation_1-rmse:2.09246\n",
      "[114]\tvalidation_0-rmse:1.68765\tvalidation_1-rmse:2.09228\n",
      "[115]\tvalidation_0-rmse:1.68472\tvalidation_1-rmse:2.09224\n",
      "[116]\tvalidation_0-rmse:1.68179\tvalidation_1-rmse:2.09254\n",
      "[117]\tvalidation_0-rmse:1.67893\tvalidation_1-rmse:2.09300\n",
      "[118]\tvalidation_0-rmse:1.67636\tvalidation_1-rmse:2.09339\n",
      "[119]\tvalidation_0-rmse:1.67389\tvalidation_1-rmse:2.09392\n"
     ]
    },
    {
     "data": {
      "text/plain": [
       "XGBRegressor(base_score=0.5, booster='gbtree', colsample_bylevel=1,\n",
       "             colsample_bynode=1, colsample_bytree=1, gamma=0, gpu_id=-1,\n",
       "             importance_type='gain', interaction_constraints='',\n",
       "             learning_rate=0.04, max_delta_step=0, max_depth=80,\n",
       "             min_child_weight=1, missing=nan, monotone_constraints='()',\n",
       "             n_estimators=472, n_jobs=-1, num_parallel_tree=1, random_state=42,\n",
       "             reg_alpha=0, reg_lambda=1, scale_pos_weight=1, subsample=0.5,\n",
       "             tree_method='exact', validate_parameters=1, verbosity=0)"
      ]
     },
     "execution_count": 203,
     "metadata": {},
     "output_type": "execute_result"
    }
   ],
   "source": [
    "modelo_act2004=xgb.XGBRegressor(max_depth=80, verbosity= 0, subsample=0.5,  n_estimators=472, n_jobs=-1, objective='reg:squarederror', booster='gbtree', random_state=42, learning_rate=0.04, reg_lambda=1)\n",
    "modelo_act2004.fit(X_train, y_train, eval_set=[(X_train, y_train), (X_test, y_test)], early_stopping_rounds=5)"
   ]
  },
  {
   "cell_type": "code",
   "execution_count": 204,
   "id": "5456b356",
   "metadata": {},
   "outputs": [
    {
     "data": {
      "text/plain": [
       "<AxesSubplot:title={'center':'Feature importance'}, xlabel='F score', ylabel='Features'>"
      ]
     },
     "execution_count": 204,
     "metadata": {},
     "output_type": "execute_result"
    },
    {
     "data": {
      "image/png": "[encoded data removed]",
      "text/plain": [
       "<Figure size 432x288 with 1 Axes>"
      ]
     },
     "metadata": {
      "needs_background": "light"
     },
     "output_type": "display_data"
    }
   ],
   "source": [
    "xgb.plot_importance(modelo_act2004)"
   ]
  },
  {
   "cell_type": "code",
   "execution_count": 205,
   "id": "6589edcf",
   "metadata": {},
   "outputs": [
    {
     "data": {
      "text/html": [
       "<div>\n",
       "<style scoped>\n",
       "    .dataframe tbody tr th:only-of-type {\n",
       "        vertical-align: middle;\n",
       "    }\n",
       "\n",
       "    .dataframe tbody tr th {\n",
       "        vertical-align: top;\n",
       "    }\n",
       "\n",
       "    .dataframe thead th {\n",
       "        text-align: right;\n",
       "    }\n",
       "</style>\n",
       "<table border=\"1\" class=\"dataframe\">\n",
       "  <thead>\n",
       "    <tr style=\"text-align: right;\">\n",
       "      <th></th>\n",
       "      <th>IDENTIFICACION</th>\n",
       "      <th>EDAD_MESES</th>\n",
       "      <th>EDAD_AÑOS</th>\n",
       "      <th>id_limp</th>\n",
       "      <th>tipoID</th>\n",
       "      <th>longitud</th>\n",
       "      <th>num_ini</th>\n",
       "      <th>cat_id</th>\n",
       "    </tr>\n",
       "  </thead>\n",
       "  <tbody>\n",
       "    <tr>\n",
       "      <th>5234043</th>\n",
       "      <td>1010182748</td>\n",
       "      <td>386.419</td>\n",
       "      <td>32.202</td>\n",
       "      <td>1010182748</td>\n",
       "      <td>cedula</td>\n",
       "      <td>10</td>\n",
       "      <td>101</td>\n",
       "      <td>act2004</td>\n",
       "    </tr>\n",
       "    <tr>\n",
       "      <th>5213046</th>\n",
       "      <td>1026561711</td>\n",
       "      <td>381.935</td>\n",
       "      <td>31.828</td>\n",
       "      <td>1026561711</td>\n",
       "      <td>cedula</td>\n",
       "      <td>10</td>\n",
       "      <td>102</td>\n",
       "      <td>act2004</td>\n",
       "    </tr>\n",
       "    <tr>\n",
       "      <th>2582090</th>\n",
       "      <td>1152461788</td>\n",
       "      <td>292.742</td>\n",
       "      <td>24.395</td>\n",
       "      <td>1152461788</td>\n",
       "      <td>cedula</td>\n",
       "      <td>10</td>\n",
       "      <td>115</td>\n",
       "      <td>act2004</td>\n",
       "    </tr>\n",
       "    <tr>\n",
       "      <th>5230086</th>\n",
       "      <td>1118840604</td>\n",
       "      <td>352.581</td>\n",
       "      <td>29.382</td>\n",
       "      <td>1118840604</td>\n",
       "      <td>cedula</td>\n",
       "      <td>10</td>\n",
       "      <td>111</td>\n",
       "      <td>act2004</td>\n",
       "    </tr>\n",
       "    <tr>\n",
       "      <th>1524117</th>\n",
       "      <td>1063619725</td>\n",
       "      <td>390.387</td>\n",
       "      <td>32.532</td>\n",
       "      <td>1063619725</td>\n",
       "      <td>cedula</td>\n",
       "      <td>10</td>\n",
       "      <td>106</td>\n",
       "      <td>act2004</td>\n",
       "    </tr>\n",
       "    <tr>\n",
       "      <th>2162786</th>\n",
       "      <td>1012383246</td>\n",
       "      <td>355.032</td>\n",
       "      <td>29.586</td>\n",
       "      <td>1012383246</td>\n",
       "      <td>cedula</td>\n",
       "      <td>10</td>\n",
       "      <td>101</td>\n",
       "      <td>act2004</td>\n",
       "    </tr>\n",
       "    <tr>\n",
       "      <th>2501535</th>\n",
       "      <td>1032415322</td>\n",
       "      <td>403.258</td>\n",
       "      <td>33.605</td>\n",
       "      <td>1032415322</td>\n",
       "      <td>cedula</td>\n",
       "      <td>10</td>\n",
       "      <td>103</td>\n",
       "      <td>act2004</td>\n",
       "    </tr>\n",
       "    <tr>\n",
       "      <th>2615390</th>\n",
       "      <td>1036941260</td>\n",
       "      <td>358.613</td>\n",
       "      <td>29.884</td>\n",
       "      <td>1036941260</td>\n",
       "      <td>cedula</td>\n",
       "      <td>10</td>\n",
       "      <td>103</td>\n",
       "      <td>act2004</td>\n",
       "    </tr>\n",
       "    <tr>\n",
       "      <th>4483119</th>\n",
       "      <td>1001546106</td>\n",
       "      <td>280.452</td>\n",
       "      <td>23.371</td>\n",
       "      <td>1001546106</td>\n",
       "      <td>cedula</td>\n",
       "      <td>10</td>\n",
       "      <td>100</td>\n",
       "      <td>act2004</td>\n",
       "    </tr>\n",
       "    <tr>\n",
       "      <th>5591959</th>\n",
       "      <td>1116247687</td>\n",
       "      <td>272.484</td>\n",
       "      <td>22.707</td>\n",
       "      <td>1116247687</td>\n",
       "      <td>cedula</td>\n",
       "      <td>10</td>\n",
       "      <td>111</td>\n",
       "      <td>act2004</td>\n",
       "    </tr>\n",
       "  </tbody>\n",
       "</table>\n",
       "</div>"
      ],
      "text/plain": [
       "        IDENTIFICACION  EDAD_MESES  EDAD_AÑOS     id_limp  tipoID  longitud  \\\n",
       "5234043     1010182748     386.419     32.202  1010182748  cedula        10   \n",
       "5213046     1026561711     381.935     31.828  1026561711  cedula        10   \n",
       "2582090     1152461788     292.742     24.395  1152461788  cedula        10   \n",
       "5230086     1118840604     352.581     29.382  1118840604  cedula        10   \n",
       "1524117     1063619725     390.387     32.532  1063619725  cedula        10   \n",
       "2162786     1012383246     355.032     29.586  1012383246  cedula        10   \n",
       "2501535     1032415322     403.258     33.605  1032415322  cedula        10   \n",
       "2615390     1036941260     358.613     29.884  1036941260  cedula        10   \n",
       "4483119     1001546106     280.452     23.371  1001546106  cedula        10   \n",
       "5591959     1116247687     272.484     22.707  1116247687  cedula        10   \n",
       "\n",
       "         num_ini   cat_id  \n",
       "5234043      101  act2004  \n",
       "5213046      102  act2004  \n",
       "2582090      115  act2004  \n",
       "5230086      111  act2004  \n",
       "1524117      106  act2004  \n",
       "2162786      101  act2004  \n",
       "2501535      103  act2004  \n",
       "2615390      103  act2004  \n",
       "4483119      100  act2004  \n",
       "5591959      111  act2004  "
      ]
     },
     "execution_count": 205,
     "metadata": {},
     "output_type": "execute_result"
    }
   ],
   "source": [
    "df_act2004.sample(10)"
   ]
  },
  {
   "cell_type": "code",
   "execution_count": 206,
   "id": "39e46e22",
   "metadata": {},
   "outputs": [
    {
     "data": {
      "text/plain": [
       "array([33.333626, 34.167168], dtype=float32)"
      ]
     },
     "execution_count": 206,
     "metadata": {},
     "output_type": "execute_result"
    }
   ],
   "source": [
    "data = {'id_limp': [1022341429,1032379203], 'longitud': [10,10], 'num_ini':[1022,1032]}\n",
    "data =pd.DataFrame(data)\n",
    "modelo_act2004.predict(data)"
   ]
  },
  {
   "cell_type": "code",
   "execution_count": 207,
   "id": "43300335",
   "metadata": {},
   "outputs": [
    {
     "data": {
      "text/plain": [
       "95"
      ]
     },
     "execution_count": 207,
     "metadata": {},
     "output_type": "execute_result"
    }
   ],
   "source": [
    "dump(modelo_act2004,'modeloXGB_act2004.pkl')\n",
    "del df_act2004\n",
    "gc.collect()"
   ]
  },
  {
   "cell_type": "code",
   "execution_count": 213,
   "id": "126e7782",
   "metadata": {},
   "outputs": [
    {
     "data": {
      "text/plain": [
       "186"
      ]
     },
     "execution_count": 213,
     "metadata": {},
     "output_type": "execute_result"
    }
   ],
   "source": [
    "#del X_train\n",
    "#del y_train\n",
    "#del X_test\n",
    "#del y_test\n",
    "#del Xvar\n",
    "#del yvar\n",
    "gc.collect()"
   ]
  },
  {
   "cell_type": "markdown",
   "id": "074e2dbd",
   "metadata": {},
   "source": [
    "###  Recortes"
   ]
  },
  {
   "cell_type": "code",
   "execution_count": null,
   "id": "c07afc60",
   "metadata": {},
   "outputs": [],
   "source": [
    "##  cedula mama  41734923\n",
    "##  cedula mama fai 51693316\n",
    "## cedula milton 1022341429\n",
    "## cedula padre 19446953\n",
    "## cedula prueba 80123456"
   ]
  },
  {
   "cell_type": "code",
   "execution_count": 33,
   "id": "8ff2bdfc",
   "metadata": {},
   "outputs": [],
   "source": [
    "#baseEntF=baseEntF.iloc[0:10]"
   ]
  },
  {
   "cell_type": "code",
   "execution_count": 82,
   "id": "487e6b11",
   "metadata": {},
   "outputs": [
    {
     "data": {
      "image/png": "[encoded data removed]",
      "text/plain": [
       "<Figure size 432x288 with 1 Axes>"
      ]
     },
     "metadata": {
      "needs_background": "light"
     },
     "output_type": "display_data"
    }
   ],
   "source": [
    "fig, ax = plt.subplots()\n",
    "sns.violinplot(ax=ax,x=baseEntF['EDAD_AÑOS']);"
   ]
  }
 ],
 "metadata": {
  "kernelspec": {
   "display_name": "Python 3",
   "language": "python",
   "name": "python3"
  },
  "language_info": {
   "codemirror_mode": {
    "name": "ipython",
    "version": 3
   },
   "file_extension": ".py",
   "mimetype": "text/x-python",
   "name": "python",
   "nbconvert_exporter": "python",
   "pygments_lexer": "ipython3",
   "version": "3.9.0"
  }
 },
 "nbformat": 4,
 "nbformat_minor": 5
}
